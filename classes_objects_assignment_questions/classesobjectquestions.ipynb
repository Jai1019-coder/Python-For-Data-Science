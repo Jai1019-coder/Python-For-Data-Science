{
 "cells": [
  {
   "cell_type": "markdown",
   "id": "abeb22b5",
   "metadata": {},
   "source": [
    "# Module: Classes and Objects Assignments\n",
    "## Lesson: Creating and Working with Classes and Objects\n",
    "### Assignment 1: Basic Class and Object Creation\n",
    "\n",
    "Create a class named `Car` with attributes `make`, `model`, and `year`. Create an object of the class and print its attributes.\n",
    "\n",
    "### Assignment 2: Methods in Class\n",
    "\n",
    "Add a method named `start_engine` to the `Car` class that prints a message when the engine starts. Create an object of the class and call the method.\n",
    "\n",
    "### Assignment 3: Class with Constructor\n",
    "\n",
    "Create a class named `Student` with attributes `name` and `age`. Use a constructor to initialize these attributes. Create an object of the class and print its attributes.\n",
    "\n",
    "### Assignment 4: Class with Private Attributes\n",
    "\n",
    "Create a class named `BankAccount` with private attributes `account_number` and `balance`. Add methods to deposit and withdraw money, and to check the balance. Create an object of the class and perform some operations.\n",
    "\n",
    "### Assignment 5: Class Inheritance\n",
    "\n",
    "Create a base class named `Person` with attributes `name` and `age`. Create a derived class named `Employee` that inherits from `Person` and adds an attribute `employee_id`. Create an object of the derived class and print its attributes.\n",
    "\n",
    "### Assignment 6: Method Overriding\n",
    "\n",
    "In the `Employee` class, override the `__str__` method to return a string representation of the object. Create an object of the class and print it.\n",
    "\n",
    "### Assignment 7: Class Composition\n",
    "\n",
    "Create a class named `Address` with attributes `street`, `city`, and `zipcode`. Create a class named `Person` that has an `Address` object as an attribute. Create an object of the `Person` class and print its address.\n",
    "\n",
    "### Assignment 8: Class with Class Variables\n",
    "\n",
    "Create a class named `Counter` with a class variable `count`. Each time an object is created, increment the count. Add a method to get the current count. Create multiple objects and print the count.\n",
    "\n",
    "### Assignment 9: Static Methods\n",
    "\n",
    "Create a class named `MathOperations` with a static method to calculate the square root of a number. Call the static method without creating an object.\n",
    "\n",
    "### Assignment 10: Class with Properties\n",
    "\n",
    "Create a class named `Rectangle` with private attributes `length` and `width`. Use properties to get and set these attributes. Create an object of the class and test the properties.\n",
    "\n",
    "### Assignment 11: Abstract Base Class\n",
    "\n",
    "Create an abstract base class named `Shape` with an abstract method `area`. Create derived classes `Circle` and `Square` that implement the `area` method. Create objects of the derived classes and call the `area` method.\n",
    "\n",
    "### Assignment 12: Operator Overloading\n",
    "\n",
    "Create a class named `Vector` with attributes `x` and `y`. Overload the `+` operator to add two `Vector` objects. Create objects of the class and test the operator overloading.\n",
    "\n",
    "### Assignment 13: Class with Custom Exception\n",
    "\n",
    "Create a custom exception named `InsufficientBalanceError`. In the `BankAccount` class, raise this exception when a withdrawal amount is greater than the balance. Handle the exception and print an appropriate message.\n",
    "\n",
    "### Assignment 14: Class with Context Manager\n",
    "\n",
    "Create a class named `FileManager` that implements the context manager protocol to open and close a file. Use this class to read the contents of a file.\n",
    "\n",
    "### Assignment 15: Chaining Methods\n",
    "\n",
    "Create a class named `Calculator` with methods to add, subtract, multiply, and divide. Each method should return the object itself to allow method chaining. Create an object and chain multiple method calls."
   ]
  },
  {
   "cell_type": "markdown",
   "id": "96941c6e",
   "metadata": {},
   "source": [
    "### Assignment 1: Basic Class and Object Creation\n",
    "\n",
    "Create a class named `Car` with attributes `make`, `model`, and `year`. Create an object of the class and print its attributes."
   ]
  },
  {
   "cell_type": "code",
   "execution_count": 1,
   "id": "b349b8a1",
   "metadata": {},
   "outputs": [
    {
     "name": "stdout",
     "output_type": "stream",
     "text": [
      "Mercedes Benz Model T 2015\n"
     ]
    }
   ],
   "source": [
    "class Car:\n",
    "    def __init__(self,make,model,year):\n",
    "        self.make = make\n",
    "        self.year = year\n",
    "        self.model = model\n",
    "mercedes = Car('Mercedes Benz','Model T',2015)\n",
    "print(mercedes.make,mercedes.model,mercedes.year)\n",
    "        "
   ]
  },
  {
   "cell_type": "markdown",
   "id": "fb2b1e06",
   "metadata": {},
   "source": [
    "### Assignment 2: Methods in Class\n",
    "\n",
    "Add a method named `start_engine` to the `Car` class that prints a message when the engine starts. Create an object of the class and call the method."
   ]
  },
  {
   "cell_type": "code",
   "execution_count": 3,
   "id": "d647b709",
   "metadata": {},
   "outputs": [
    {
     "name": "stdout",
     "output_type": "stream",
     "text": [
      "Car is started.\n"
     ]
    }
   ],
   "source": [
    "class Car:\n",
    "    def __init__(self,make,model,year):\n",
    "        self.make = make\n",
    "        self.year = year\n",
    "        self.model = model\n",
    "    def start_engine(self):\n",
    "        print(\"Car is started.\")\n",
    "tata = Car(\"Tata Motors\",\"Punch.ev\",\"2021\")\n",
    "tata.start_engine()"
   ]
  },
  {
   "cell_type": "markdown",
   "id": "67e72723",
   "metadata": {},
   "source": [
    "### Assignment 3: Class with Constructor\n",
    "\n",
    "Create a class named `Student` with attributes `name` and `age`. Use a constructor to initialize these attributes. Create an object of the class and print its attributes."
   ]
  },
  {
   "cell_type": "code",
   "execution_count": 4,
   "id": "0f919ddb",
   "metadata": {},
   "outputs": [
    {
     "data": {
      "text/plain": [
       "17"
      ]
     },
     "execution_count": 4,
     "metadata": {},
     "output_type": "execute_result"
    }
   ],
   "source": [
    "class Student:\n",
    "    def __init__(self,name,age):\n",
    "        self.name = name\n",
    "        self.age = age\n",
    "Jayant = Student(\"Jayant\",17)\n",
    "Jayant.name\n",
    "Jayant.age"
   ]
  },
  {
   "cell_type": "markdown",
   "id": "c3e847a8",
   "metadata": {},
   "source": [
    "### Assignment 4: Class with Private Attributes\n",
    "\n",
    "Create a class named `BankAccount` with private attributes `account_number` and `balance`. Add methods to deposit and withdraw money, and to check the balance. Create an object of the class and perform some operations.\n"
   ]
  },
  {
   "cell_type": "code",
   "execution_count": 9,
   "id": "69345b6a",
   "metadata": {},
   "outputs": [
    {
     "name": "stdout",
     "output_type": "stream",
     "text": [
      "Amount 40000 is deposited\n",
      "Amount 60000 is withdrawed\n",
      "30000\n"
     ]
    },
    {
     "data": {
      "text/plain": [
       "['_BankAccount__account_number',\n",
       " '_BankAccount__balance',\n",
       " '__class__',\n",
       " '__delattr__',\n",
       " '__dict__',\n",
       " '__dir__',\n",
       " '__doc__',\n",
       " '__eq__',\n",
       " '__format__',\n",
       " '__ge__',\n",
       " '__getattribute__',\n",
       " '__getstate__',\n",
       " '__gt__',\n",
       " '__hash__',\n",
       " '__init__',\n",
       " '__init_subclass__',\n",
       " '__le__',\n",
       " '__lt__',\n",
       " '__module__',\n",
       " '__ne__',\n",
       " '__new__',\n",
       " '__reduce__',\n",
       " '__reduce_ex__',\n",
       " '__repr__',\n",
       " '__setattr__',\n",
       " '__sizeof__',\n",
       " '__str__',\n",
       " '__subclasshook__',\n",
       " '__weakref__',\n",
       " 'deposit',\n",
       " 'withdraw']"
      ]
     },
     "execution_count": 9,
     "metadata": {},
     "output_type": "execute_result"
    }
   ],
   "source": [
    "class BankAccount:\n",
    "    def __init__(self,account_number,balance):\n",
    "        self.__account_number = account_number\n",
    "        self.__balance = balance\n",
    "    def deposit(self,money):\n",
    "        self.__balance+=money\n",
    "        print(f\"Amount {money} is deposited\")\n",
    "    def withdraw(self, money):\n",
    "        if self.__balance == 0:\n",
    "            print(\"No money is there to withdraw\")\n",
    "        elif self.__balance < money:\n",
    "            print(\"Amount is greater than balance\")\n",
    "        else:\n",
    "            print(f\"Amount {money} is withdrawed\")\n",
    "            self.__balance-=money\n",
    "acc1 = BankAccount(123456789, 50000)\n",
    "acc1.deposit(40000)\n",
    "acc1.withdraw(60000)\n",
    "print(acc1._BankAccount__balance)\n",
    "dir(acc1)"
   ]
  },
  {
   "cell_type": "markdown",
   "id": "adcc4f71",
   "metadata": {},
   "source": [
    "### Assignment 5: Class Inheritance\n",
    "\n",
    "Create a base class named `Person` with attributes `name` and `age`. Create a derived class named `Employee` that inherits from `Person` and adds an attribute `employee_id`. Create an object of the derived class and print its attributes."
   ]
  },
  {
   "cell_type": "code",
   "execution_count": 10,
   "id": "d4e758bc",
   "metadata": {},
   "outputs": [
    {
     "name": "stdout",
     "output_type": "stream",
     "text": [
      "Lakhan\n",
      "46\n",
      "2001\n"
     ]
    }
   ],
   "source": [
    "class Person:\n",
    "    def __init__(self, name, age):\n",
    "        self.age = age\n",
    "        self.name = name\n",
    "class Employee(Person):\n",
    "    def __init__(self,name,age employee_id):\n",
    "        super().__init__(name,age)\n",
    "        self.employee_id = employee_id\n",
    "e1 = Employee(\"Lakhan\",\"46\",2001)\n",
    "print(e1.name)\n",
    "print(e1.age)\n",
    "print(e1.employee_id)"
   ]
  },
  {
   "cell_type": "markdown",
   "id": "fdfa865c",
   "metadata": {},
   "source": [
    "### Assignment 6: Method Overriding\n",
    "\n",
    "In the `Employee` class, override the `__str__` method to return a string representation of the object. Create an object of the class and print it."
   ]
  },
  {
   "cell_type": "code",
   "execution_count": 16,
   "id": "846f07fc",
   "metadata": {},
   "outputs": [
    {
     "name": "stdout",
     "output_type": "stream",
     "text": [
      "Employe : Raghu \n",
      " Age : 45\n",
      " Id : 2003\n"
     ]
    }
   ],
   "source": [
    "class Employee(Person):\n",
    "    def __init__(self,name,age, employee_id):\n",
    "        super().__init__(name,age)\n",
    "        self.employee_id = employee_id\n",
    "    def __str__(self) -> str:\n",
    "        return f\"Employe : {self.name} \\n Age : {self.age}\\n Id : {self.employee_id}\"\n",
    "e2 = Employee(\"Raghu\",\"45\",2003)\n",
    "print(e2)"
   ]
  },
  {
   "cell_type": "markdown",
   "id": "10e81d53",
   "metadata": {},
   "source": [
    "### Assignment 7: Class Composition\n",
    "\n",
    "Create a class named `Address` with attributes `street`, `city`, and `zipcode`. Create a class named `Person` that has an `Address` object as an attribute. Create an object of the `Person` class and print its address.\n"
   ]
  },
  {
   "cell_type": "code",
   "execution_count": 19,
   "id": "bb982dea",
   "metadata": {},
   "outputs": [
    {
     "name": "stdout",
     "output_type": "stream",
     "text": [
      "Kanpur Colonelganj 208001\n"
     ]
    }
   ],
   "source": [
    "class Address:\n",
    "    def __init__(self, street, city, zipcode):\n",
    "        self.street = street\n",
    "        self.city = city\n",
    "        self.zipcode = zipcode\n",
    "class Person:\n",
    "    def __init__(self, Address):\n",
    "        self.Address = Address\n",
    "add = Address(\"Colonelganj\",\"Kanpur\",208001)\n",
    "a = Person(add)\n",
    "print(a.Address.city, a.Address.street, a.Address.zipcode)\n"
   ]
  },
  {
   "cell_type": "markdown",
   "id": "abe289e0",
   "metadata": {},
   "source": [
    "### Assignment 8: Class with Class Variables\n",
    "\n",
    "Create a class named `Counter` with a class variable `count`. Each time an object is created, increment the count. Add a method to get the current count. Create multiple objects and print the count.\n"
   ]
  },
  {
   "cell_type": "code",
   "execution_count": 4,
   "id": "4453b65a",
   "metadata": {},
   "outputs": [
    {
     "name": "stdout",
     "output_type": "stream",
     "text": [
      "3\n"
     ]
    }
   ],
   "source": [
    "class Counter:\n",
    "    count = 0\n",
    "\n",
    "    def __init__(self):\n",
    "        Counter.count+=1\n",
    "    @classmethod\n",
    "    def get_count(clas):\n",
    "        return clas.count\n",
    "a = Counter()\n",
    "b = Counter()\n",
    "c = Counter()\n",
    "print(Counter.get_count())"
   ]
  },
  {
   "cell_type": "markdown",
   "id": "bea3bf5d",
   "metadata": {},
   "source": [
    "### Assignment 9: Static Methods\n",
    "\n",
    "Create a class named `MathOperations` with a static method to calculate the square root of a number. Call the static method without creating an object."
   ]
  },
  {
   "cell_type": "code",
   "execution_count": 5,
   "id": "5ec138ef",
   "metadata": {},
   "outputs": [
    {
     "data": {
      "text/plain": [
       "2.0"
      ]
     },
     "execution_count": 5,
     "metadata": {},
     "output_type": "execute_result"
    }
   ],
   "source": [
    "class MathOperations:\n",
    "    @staticmethod\n",
    "    def sqrt(a):\n",
    "        return a**(0.5)\n",
    "MathOperations.sqrt(4)"
   ]
  },
  {
   "cell_type": "markdown",
   "id": "bbcacdf0",
   "metadata": {},
   "source": [
    "### Assignment 10: Class with Properties\n",
    "\n",
    "Create a class named `Rectangle` with private attributes `length` and `width`. Use properties to get and set these attributes. Create an object of the class and test the properties.\n"
   ]
  },
  {
   "cell_type": "code",
   "execution_count": 7,
   "id": "889d6a0a",
   "metadata": {},
   "outputs": [
    {
     "name": "stdout",
     "output_type": "stream",
     "text": [
      "(30, 20)\n",
      "600\n"
     ]
    }
   ],
   "source": [
    "class Rectangle:\n",
    "    def __init__(self, length,breadth):\n",
    "        self.__length = length\n",
    "        self.__breadth = breadth\n",
    "    def set_dimensions(self,length, breadth):\n",
    "        self.__length = length\n",
    "        self.__breadth = breadth\n",
    "    def get_dimensions(self):\n",
    "        return (self.__length,self.__breadth)\n",
    "    def area(self):\n",
    "        return self.__length*self.__breadth\n",
    "rect1 = Rectangle(22,15)\n",
    "rect1.set_dimensions(30,20)\n",
    "print(rect1.get_dimensions())\n",
    "print(rect1.area())\n",
    "        "
   ]
  },
  {
   "cell_type": "markdown",
   "id": "3aa0e1f2",
   "metadata": {},
   "source": [
    "### Assignment 11: Abstract Base Class\n",
    "\n",
    "Create an abstract base class named `Shape` with an abstract method `area`. Create derived classes `Circle` and `Square` that implement the `area` method. Create objects of the derived classes and call the `area` method."
   ]
  },
  {
   "cell_type": "code",
   "execution_count": 10,
   "id": "82c4a5a9",
   "metadata": {},
   "outputs": [
    {
     "name": "stdout",
     "output_type": "stream",
     "text": [
      "Area of the square is 49\n",
      "Area of the circle is 153.93804002589985\n"
     ]
    }
   ],
   "source": [
    "from abc import ABC,abstractmethod\n",
    "import math\n",
    "class Shape(ABC):\n",
    "    def __init__(self, dimension):\n",
    "        self.dimension = dimension\n",
    "    @abstractmethod\n",
    "    def area(self):\n",
    "        pass\n",
    "class Square(Shape):\n",
    "    def __init__(self, side):\n",
    "        self.side = side\n",
    "    def area(self):\n",
    "        print(f\"Area of the square is {self.side*self.side}\")\n",
    "class Circle(Shape):\n",
    "    def __init__(self, radius):\n",
    "        self.radius = radius\n",
    "    def area(self):\n",
    "        print(f\"Area of the circle is {math.pi*(self.radius**2)}\")\n",
    "s = Square(7)\n",
    "c = Circle(7)\n",
    "s.area()\n",
    "c.area()"
   ]
  },
  {
   "cell_type": "markdown",
   "id": "2e894bbc",
   "metadata": {},
   "source": [
    "### Assignment 12: Operator Overloading\n",
    "\n",
    "Create a class named `Vector` with attributes `x` and `y`. Overload the `+` operator to add two `Vector` objects. Create objects of the class and test the operator overloading.\n"
   ]
  },
  {
   "cell_type": "code",
   "execution_count": 13,
   "id": "8cf41a2d",
   "metadata": {},
   "outputs": [
    {
     "name": "stdout",
     "output_type": "stream",
     "text": [
      "Vector(5,7)\n",
      "Vector(-1,-1)\n",
      "Vector(6,12)\n"
     ]
    }
   ],
   "source": [
    "class Vector:\n",
    "    def __init__(self, x, y):\n",
    "        self.x = x\n",
    "        self.y = y\n",
    "    def __add__(self, Vector2):\n",
    "        return Vector(self.x+Vector2.x, self.y+Vector2.y)\n",
    "    def __sub__(self, v2):\n",
    "        return Vector(self.x-v2.x, self.y-v2.y)\n",
    "    def __mul__(self, v2):\n",
    "        return Vector(self.x*v2.x,self.y*v2.y)\n",
    "    def __str__(self):\n",
    "        return f\"Vector({self.x},{self.y})\"\n",
    "v1 = Vector(2,3)\n",
    "v2 = Vector(3,4)\n",
    "r1 = v1+v2\n",
    "print(r1)\n",
    "r1 = v1-v2\n",
    "print(r1)\n",
    "r1 = v1*v2\n",
    "print(r1)"
   ]
  },
  {
   "cell_type": "markdown",
   "id": "64be2015",
   "metadata": {},
   "source": [
    "### Assignment 13: Class with Custom Exception\n",
    "\n",
    "Create a custom exception named `InsufficientBalanceError`. In the `BankAccount` class, raise this exception when a withdrawal amount is greater than the balance. Handle the exception and print an appropriate message.\n"
   ]
  },
  {
   "cell_type": "code",
   "execution_count": 15,
   "id": "edf8457a",
   "metadata": {},
   "outputs": [
    {
     "name": "stdout",
     "output_type": "stream",
     "text": [
      "Insufficient Balance\n",
      "Insufficient Balance\n",
      "Execution successful\n"
     ]
    }
   ],
   "source": [
    "class InsufficientBalanceError(Exception):\n",
    "    print(\"Insufficient Balance\")\n",
    "class BankAccount:\n",
    "    def __init__(self,account_number,balance):\n",
    "        self.__account_number = account_number\n",
    "        self.__balance = balance\n",
    "    def deposit(self,money):\n",
    "        self.__balance+=money\n",
    "        print(f\"Amount {money} is deposited\")\n",
    "    def withdraw(self, money):\n",
    "        if self.__balance <= money:\n",
    "            raise InsufficientBalanceError\n",
    "        else:\n",
    "            print(f\"Amount {money} is withdrawed\")\n",
    "            self.__balance-=money\n",
    "try:\n",
    "    acc2.withdraw(10000)\n",
    "except InsufficientBalanceError:\n",
    "    print(\"Insufficient Balance\")\n",
    "finally:\n",
    "    print(\"Execution successful\")"
   ]
  },
  {
   "cell_type": "markdown",
   "id": "81b84069",
   "metadata": {},
   "source": [
    "### Assignment 14: Class with Context Manager\n",
    "\n",
    "Create a class named `FileManager` that implements the context manager protocol to open and close a file. Use this class to read the contents of a file."
   ]
  },
  {
   "cell_type": "code",
   "execution_count": null,
   "id": "6763b957",
   "metadata": {},
   "outputs": [],
   "source": []
  },
  {
   "cell_type": "markdown",
   "id": "0ab5fda9",
   "metadata": {},
   "source": [
    "### Assignment 15: Chaining Methods\n",
    "\n",
    "Create a class named `Calculator` with methods to add, subtract, multiply, and divide. Each method should return the object itself to allow method chaining. Create an object and chain multiple method calls."
   ]
  },
  {
   "cell_type": "code",
   "execution_count": 24,
   "id": "5243a0da",
   "metadata": {},
   "outputs": [
    {
     "name": "stdout",
     "output_type": "stream",
     "text": [
      "Cannot divide by zero\n",
      "21\n"
     ]
    }
   ],
   "source": [
    "class Calculator:\n",
    "    def __init__(self,a):\n",
    "        self.a = a\n",
    "    def add(self, num):\n",
    "        return Calculator(self.a+num)\n",
    "    def div(self, num):\n",
    "        try:\n",
    "            return Calculator(self.a/num)\n",
    "        except ZeroDivisionError :\n",
    "            print(\"Cannot divide by zero\")\n",
    "            return Calculator(self.a)\n",
    "    def sub(self, num):\n",
    "        return Calculator(self.a-num)\n",
    "    def mul(self, num):\n",
    "        return Calculator(self.a*num)\n",
    "result = Calculator(4).add(5).sub(2).div(0).mul(3)\n",
    "print(result.a)"
   ]
  }
 ],
 "metadata": {
  "kernelspec": {
   "display_name": "Python 3",
   "language": "python",
   "name": "python3"
  },
  "language_info": {
   "codemirror_mode": {
    "name": "ipython",
    "version": 3
   },
   "file_extension": ".py",
   "mimetype": "text/x-python",
   "name": "python",
   "nbconvert_exporter": "python",
   "pygments_lexer": "ipython3",
   "version": "3.12.5"
  }
 },
 "nbformat": 4,
 "nbformat_minor": 5
}

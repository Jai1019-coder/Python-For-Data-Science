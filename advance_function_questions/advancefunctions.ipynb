{
 "cells": [
  {
   "cell_type": "markdown",
   "metadata": {},
   "source": [
    "# Module 4: Advanced Functions Assignments\n",
    "## Lesson 4.1: Defining Functions\n",
    "### Assignment 1: Fibonacci Sequence with Memoization\n",
    "\n",
    "Define a recursive function to calculate the nth Fibonacci number using memoization. Test the function with different inputs.\n",
    "\n",
    "### Assignment 2: Function with Nested Default Arguments\n",
    "\n",
    "Define a function that takes two arguments, a and b, where b is a dictionary with a default value of an empty dictionary. The function should add a new key-value pair to the dictionary and return it. Test the function with different inputs.\n",
    "\n",
    "### Assignment 3: Function with Variable Keyword Arguments\n",
    "\n",
    "Define a function that takes a variable number of keyword arguments and returns a dictionary containing only those key-value pairs where the value is an integer. Test the function with different inputs.\n",
    "\n",
    "### Assignment 4: Function with Callback\n",
    "\n",
    "Define a function that takes another function as a callback and a list of integers. The function should apply the callback to each integer in the list and return a new list with the results. Test with different callback functions.\n",
    "\n",
    "### Assignment 5: Function that Returns a Function\n",
    "\n",
    "Define a function that returns another function. The returned function should take an integer and return its square. Test the returned function with different inputs.\n",
    "\n",
    "### Assignment 6: Function with Decorators\n",
    "\n",
    "Define a function that calculates the time taken to execute another function. Apply this decorator to a function that performs a complex calculation. Test the decorated function with different inputs.\n",
    "\n",
    "### Assignment 7: Higher-Order Function for Filtering and Mapping\n",
    "\n",
    "Define a higher-order function that takes two functions, a filter function and a map function, along with a list of integers. The higher-order function should first filter the integers using the filter function and then apply the map function to the filtered integers. Test with different filter and map functions.\n",
    "\n",
    "### Assignment 8: Function Composition\n",
    "\n",
    "Define a function that composes two functions, f and g, such that the result is f(g(x)). Test with different functions f and g.\n",
    "\n",
    "### Assignment 9: Partial Function Application\n",
    "\n",
    "Use the functools.partial function to create a new function that multiplies its input by 2. Test the new function with different inputs.\n",
    "\n",
    "### Assignment 10: Function with Error Handling\n",
    "\n",
    "Define a function that takes a list of integers and returns their average. The function should handle any errors that occur (e.g., empty list) and return None in such cases. Test with different inputs.\n",
    "\n",
    "### Assignment 11: Function with Generators\n",
    "\n",
    "Define a function that generates an infinite sequence of Fibonacci numbers. Test by printing the first 10 numbers in the sequence.\n",
    "\n",
    "### Assignment 12: Currying\n",
    "\n",
    "Define a curried function that takes three arguments, one at a time, and returns their product. Test the function by providing arguments one at a time.\n",
    "\n",
    "### Assignment 13: Function with Context Manager\n",
    "\n",
    "Define a function that uses a context manager to write a list of integers to a file. The function should handle any errors that occur during file operations. Test with different lists.\n",
    "\n",
    "### Assignment 14: Function with Multiple Return Types\n",
    "\n",
    "Define a function that takes a list of mixed data types (integers, strings, and floats) and returns three lists: one containing all the integers, one containing all the strings, and one containing all the floats. Test with different inputs.\n",
    "\n",
    "### Assignment 15: Function with State\n",
    "\n",
    "Define a function that maintains state between calls using a mutable default argument. The function should keep track of how many times it has been called. Test by calling the function multiple times."
   ]
  },
  {
   "cell_type": "markdown",
   "id": "d7a49994",
   "metadata": {},
   "source": [
    "Question 1"
   ]
  },
  {
   "cell_type": "code",
   "execution_count": 1,
   "metadata": {},
   "outputs": [
    {
     "data": {
      "text/plain": [
       "120"
      ]
     },
     "execution_count": 1,
     "metadata": {},
     "output_type": "execute_result"
    }
   ],
   "source": [
    "def fib(n):\n",
    "    if n == 0 or n == 1 :\n",
    "        return 1\n",
    "    else:\n",
    "        return n*fib(n-1)\n",
    "fib(5)"
   ]
  },
  {
   "cell_type": "markdown",
   "id": "d786990e",
   "metadata": {},
   "source": [
    "Question 2\n",
    "\n",
    "Define a function that takes two arguments, a and b, where b is a dictionary with a default value of an empty dictionary. The function should add a new key-value pair to the dictionary and return it. Test the function with different inputs."
   ]
  },
  {
   "cell_type": "code",
   "execution_count": 6,
   "id": "f00d4950",
   "metadata": {},
   "outputs": [
    {
     "name": "stdout",
     "output_type": "stream",
     "text": [
      "defaultdict(<class 'list'>, {'x': ['value1']})\n"
     ]
    }
   ],
   "source": [
    "from collections import defaultdict\n",
    "\n",
    "def dict_input(a, b = defaultdict(list)):\n",
    "    b[a].append('value1')\n",
    "    return b\n",
    "x = dict_input('x')\n",
    "# x = lambda a, b : defaultdict(list) : b[a].append('value1') #generates error\n",
    "print(x)"
   ]
  },
  {
   "cell_type": "markdown",
   "id": "13130cb6",
   "metadata": {},
   "source": [
    "Question 3\n",
    "\n",
    "Define a function that takes a variable number of keyword arguments and returns a dictionary containing only those key-value pairs where the value is an integer. Test the function with different inputs.\n"
   ]
  },
  {
   "cell_type": "code",
   "execution_count": 7,
   "id": "8d9f9ed6",
   "metadata": {},
   "outputs": [
    {
     "name": "stdout",
     "output_type": "stream",
     "text": [
      "{0: 1, 1: 2, 12: 26}\n"
     ]
    }
   ],
   "source": [
    "def var_arg(*args):\n",
    "    b = {i : args[i] for i in range(0, len(args)) if type(args[i]) == int}\n",
    "    return b\n",
    "dict_int = var_arg(1,2,'c','h','i','k','l','a','n','d','u','@',26)\n",
    "print(dict_int)"
   ]
  },
  {
   "cell_type": "markdown",
   "id": "034d3f3d",
   "metadata": {},
   "source": [
    "Question 4\n",
    "\n",
    "Define a function that takes another function as a callback and a list of integers. The function should apply the callback to each integer in the list and return a new list with the results. Test with different callback functions."
   ]
  },
  {
   "cell_type": "code",
   "execution_count": 11,
   "id": "5afe0396",
   "metadata": {},
   "outputs": [
    {
     "name": "stdout",
     "output_type": "stream",
     "text": [
      "[2, 4, 6, 8]\n"
     ]
    }
   ],
   "source": [
    "def even(a):\n",
    "    return a%2==0\n",
    "def callback(lst):\n",
    "    filter_lst = list(filter(even,lst))\n",
    "    return filter_lst\n",
    "lst = callback([1,2,3,4,5,6,7,8,9])\n",
    "print(lst)"
   ]
  },
  {
   "cell_type": "markdown",
   "id": "7338f1c0",
   "metadata": {},
   "source": [
    "Question 5\n",
    "\n",
    "Define a function that returns another function. The returned function should take an integer and return its square. Test the returned function with different inputs.\n"
   ]
  },
  {
   "cell_type": "code",
   "execution_count": 33,
   "id": "986eb0ad",
   "metadata": {},
   "outputs": [
    {
     "name": "stdout",
     "output_type": "stream",
     "text": [
      "4\n"
     ]
    }
   ],
   "source": [
    "def return_funcn(n):\n",
    "    sqr = lambda x  :  x**2\n",
    "    return sqr(n)\n",
    "print(return_funcn(int(input())))"
   ]
  },
  {
   "cell_type": "markdown",
   "id": "9339e681",
   "metadata": {},
   "source": [
    "Question 6\n",
    "\n",
    "Define a function that calculates the time taken to execute another function. Apply this decorator to a function that performs a complex calculation. Test the decorated function with different inputs."
   ]
  },
  {
   "cell_type": "code",
   "execution_count": 4,
   "id": "b0c52c75",
   "metadata": {},
   "outputs": [
    {
     "name": "stdout",
     "output_type": "stream",
     "text": [
      "Function fib took 1.0004229545593262 seconds to execute\n",
      "Function fib took 2.0006134510040283 seconds to execute\n",
      "Function fib took 3.0011637210845947 seconds to execute\n",
      "Function fib took 4.001424312591553 seconds to execute\n",
      "Function fib took 5.005366563796997 seconds to execute\n",
      "120\n"
     ]
    }
   ],
   "source": [
    "import time\n",
    "def time_taken(func):\n",
    "    def wrapper(*args,**kwargs):\n",
    "        start_time = time.time()\n",
    "        result = func(*args, **kwargs)\n",
    "        end_time  = time.time()\n",
    "        print(f\"Function {func.__name__} took {end_time-start_time} seconds to execute\")\n",
    "        return result\n",
    "    return wrapper \n",
    "\n",
    "@time_taken\n",
    "def fib(n):\n",
    "    time.sleep(1)\n",
    "    if n == 0 or n == 1 :\n",
    "        return 1\n",
    "    else:\n",
    "        return n*fib(n-1)\n",
    "print(fib(5))"
   ]
  },
  {
   "cell_type": "markdown",
   "id": "8725be43",
   "metadata": {},
   "source": [
    "Question 7\n",
    "\n",
    "Define a higher-order function that takes two functions, a filter function and a map function, along with a list of integers. The higher-order function should first filter the integers using the filter function and then apply the map function to the filtered integers. Test with different filter and map functions."
   ]
  },
  {
   "cell_type": "code",
   "execution_count": 12,
   "id": "ec3d900b",
   "metadata": {},
   "outputs": [
    {
     "name": "stdout",
     "output_type": "stream",
     "text": [
      "[3.1622776601683795, 3.4641016151377544, 3.7416573867739413, 4.0, 4.242640687119285, 4.47213595499958, 4.69041575982343, 4.898979485566356, 5.0990195135927845, 5.291502622129181, 5.477225575051661, 5.656854249492381, 5.830951894845301, 6.0, 6.164414002968976, 6.324555320336759, 6.48074069840786, 6.6332495807108, 6.782329983125268, 6.928203230275509, 7.0710678118654755, 7.211102550927978, 7.3484692283495345, 7.483314773547883, 7.615773105863909, 7.745966692414834, 7.874007874011811, 8.0, 8.12403840463596, 8.246211251235321, 8.366600265340756, 8.48528137423857, 8.602325267042627, 8.717797887081348, 8.831760866327848, 8.94427190999916, 9.055385138137417, 9.16515138991168, 9.273618495495704, 9.38083151964686, 9.486832980505138, 9.591663046625438, 9.695359714832659, 9.797958971132712, 9.899494936611665, 10.0, 10.099504938362077, 10.198039027185569, 10.295630140987, 10.392304845413264, 10.488088481701515, 10.583005244258363, 10.677078252031311, 10.770329614269007, 10.862780491200215, 10.954451150103322, 11.045361017187261, 11.135528725660043, 11.224972160321824, 11.313708498984761, 11.40175425099138, 11.489125293076057, 11.575836902790225, 11.661903789690601, 11.74734012447073, 11.832159566199232, 11.916375287812984, 12.0, 12.083045973594572, 12.165525060596439, 12.24744871391589, 12.328828005937952, 12.409673645990857, 12.489995996796797, 12.569805089976535, 12.649110640673518, 12.727922061357855, 12.806248474865697, 12.884098726725126, 12.96148139681572, 13.038404810405298, 13.114877048604, 13.19090595827292, 13.2664991614216, 13.341664064126334, 13.416407864998739, 13.490737563232042, 13.564659966250536, 13.638181696985855, 13.711309200802088, 13.784048752090222, 13.856406460551018, 13.92838827718412, 14.0, 14.071247279470288]\n",
      "[3.3166247903554, 3.605551275463989, 4.123105625617661, 4.358898943540674, 4.795831523312719, 5.385164807134504, 5.5677643628300215, 6.082762530298219, 6.4031242374328485, 6.557438524302, 6.855654600401044, 7.280109889280518, 7.681145747868608, 7.810249675906654, 8.18535277187245, 8.426149773176359, 8.54400374531753, 8.888194417315589, 9.1104335791443, 9.433981132056603, 9.848857801796104, 10.04987562112089, 10.14889156509222, 10.344080432788601, 10.44030650891055, 10.63014581273465, 11.269427669584644, 11.445523142259598, 11.704699910719626, 11.789826122551595, 12.206555615733702, 12.288205727444508, 12.529964086141668, 12.767145334803704, 12.922847983320086, 13.152946437965905, 13.379088160259652, 13.45362404707371, 13.820274961085254, 13.892443989449804, 14.035668847618199, 14.106735979665885]\n"
     ]
    }
   ],
   "source": [
    "def higher_order_function(filter_funcn, map_funcn, int_list):\n",
    "    \"\"\"A function that filters a list of integers using filter function and then apply map function to \n",
    "    the filtered integers.\"\"\"\n",
    "    filtered_list = list(filter(filter_funcn, int_list))\n",
    "    mapped_list = list(map(map_funcn,filtered_list))\n",
    "    return mapped_list\n",
    "even = lambda x : x%2==0\n",
    "sqroot = lambda i : i**0.5\n",
    "prime = lambda x : all(x%i!=0 for i in range(2,int(x**0.5)+1)) and x >1\n",
    "print(higher_order_function(even,sqroot,[i for i in range(10,200)]))\n",
    "print(higher_order_function(prime,sqroot,[i for i in range(10,200)]))\n"
   ]
  },
  {
   "cell_type": "markdown",
   "id": "c4c36d64",
   "metadata": {},
   "source": [
    "Question 8\n",
    "\n",
    "Define a function that composes two functions, f and g, such that the result is f(g(x)). Test with different functions f and g."
   ]
  },
  {
   "cell_type": "code",
   "execution_count": 2,
   "id": "bb97cfa6",
   "metadata": {},
   "outputs": [
    {
     "name": "stdout",
     "output_type": "stream",
     "text": [
      "26\n"
     ]
    }
   ],
   "source": [
    "def function_composition(f,g):\n",
    "    def h(x):\n",
    "        return f(g(x))\n",
    "    return h\n",
    "x = lambda x : x+1\n",
    "y = lambda x : x**2\n",
    "composition = function_composition(x,y)\n",
    "print(composition(5))"
   ]
  }
 ],
 "metadata": {
  "kernelspec": {
   "display_name": "Python 3",
   "language": "python",
   "name": "python3"
  },
  "language_info": {
   "codemirror_mode": {
    "name": "ipython",
    "version": 3
   },
   "file_extension": ".py",
   "mimetype": "text/x-python",
   "name": "python",
   "nbconvert_exporter": "python",
   "pygments_lexer": "ipython3",
   "version": "3.12.5"
  }
 },
 "nbformat": 4,
 "nbformat_minor": 5
}

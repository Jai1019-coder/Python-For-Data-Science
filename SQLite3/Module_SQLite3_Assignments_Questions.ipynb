{
 "cells": [
  {
   "cell_type": "markdown",
   "id": "964cf61d",
   "metadata": {},
   "source": [
    "# Module: SQLite3 Assignments\n",
    "## Lesson: SQLite3\n",
    "### Assignment 1: Creating and Connecting to a Database\n",
    "\n",
    "1. Write a Python function to create a new SQLite3 database named `test.db`.\n",
    "2. Write a Python function to create a table named `employees` with columns `id` (integer), `name` (text), `age` (integer), and `department` (text) in the `test.db` database.\n",
    "\n",
    "### Assignment 2: Inserting Data\n",
    "\n",
    "1. Write a Python function to insert a new employee into the `employees` table.\n",
    "2. Insert at least 5 different employees into the `employees` table.\n",
    "\n",
    "### Assignment 3: Querying Data\n",
    "\n",
    "1. Write a Python function to fetch and display all records from the `employees` table.\n",
    "2. Write a Python function to fetch and display all employees from a specific department.\n",
    "\n",
    "### Assignment 4: Updating Data\n",
    "\n",
    "1. Write a Python function to update the department of an employee based on their `id`.\n",
    "2. Update the department of at least 2 employees and display the updated records.\n",
    "\n",
    "### Assignment 5: Deleting Data\n",
    "\n",
    "1. Write a Python function to delete an employee from the `employees` table based on their `id`.\n",
    "2. Delete at least 1 employee and display the remaining records.\n",
    "\n",
    "### Assignment 6: Advanced Queries\n",
    "\n",
    "1. Write a Python function to fetch and display employees older than a certain age.\n",
    "2. Write a Python function to fetch and display employees whose names start with a specific letter.\n",
    "\n",
    "### Assignment 7: Handling Transactions\n",
    "\n",
    "1. Write a Python function to insert multiple employees into the `employees` table in a single transaction. Ensure that if any insertion fails, none of the insertions are committed.\n",
    "2. Write a Python function to update the age of multiple employees in a single transaction. Ensure that if any update fails, none of the updates are committed.\n",
    "\n",
    "### Assignment 8: Creating Relationships\n",
    "\n",
    "1. Create a new table named `departments` with columns `id` (integer) and `name` (text).\n",
    "2. Modify the `employees` table to include a foreign key referencing the `id` column in the `departments` table.\n",
    "3. Write a Python function to insert data into both the `departments` and `employees` tables, ensuring referential integrity.\n",
    "\n",
    "### Assignment 9: Indexing and Optimization\n",
    "\n",
    "1. Create an index on the `name` column of the `employees` table.\n",
    "2. Write a Python function to fetch and display all employees whose names start with a specific letter. Compare the performance with and without the index.\n",
    "\n",
    "### Assignment 10: Backing Up and Restoring Data\n",
    "\n",
    "1. Write a Python function to back up the `test.db` database to a file named `backup.db`.\n",
    "2. Write a Python function to restore the `test.db` database from the `backup.db` file."
   ]
  },
  {
   "cell_type": "code",
   "execution_count": 1,
   "id": "f7e75742",
   "metadata": {},
   "outputs": [],
   "source": [
    "import sqlite3"
   ]
  },
  {
   "cell_type": "markdown",
   "id": "9b9be780",
   "metadata": {},
   "source": [
    "### Assignment 1: Creating and Connecting to a Database"
   ]
  },
  {
   "cell_type": "markdown",
   "id": "f13fb9b9",
   "metadata": {},
   "source": [
    "#### 1. Write a Python function to create a new SQLite3 database named `test.db`."
   ]
  },
  {
   "cell_type": "code",
   "execution_count": 37,
   "metadata": {},
   "outputs": [],
   "source": [
    "connection = sqlite3.connect(\"employees.db\")"
   ]
  },
  {
   "cell_type": "markdown",
   "id": "813b8933",
   "metadata": {},
   "source": [
    "#### 2. Write a Python function to create a table named `employees` with columns `id` (integer), `name` (text), `age` (integer), and `department` (text) in the `test.db` database."
   ]
  },
  {
   "cell_type": "code",
   "execution_count": 38,
   "id": "07656002",
   "metadata": {},
   "outputs": [],
   "source": [
    "cursor = connection.cursor()\n",
    "cursor.execute('''\n",
    "Create Table If Not Exists employees(\n",
    "            id Integer Primary Key,\n",
    "            name Text Not Null,\n",
    "            age Integer,\n",
    "            department text\n",
    "            )\n",
    "''')\n",
    "connection.commit()\n"
   ]
  },
  {
   "cell_type": "markdown",
   "id": "0c60dca1",
   "metadata": {},
   "source": [
    "### Assignment 2: Inserting Data"
   ]
  },
  {
   "cell_type": "markdown",
   "id": "b3c02c6f",
   "metadata": {},
   "source": [
    "#### 1. Write a Python function to insert a new employee into the `employees` table."
   ]
  },
  {
   "cell_type": "code",
   "execution_count": 8,
   "id": "6170ba6d",
   "metadata": {},
   "outputs": [],
   "source": [
    "def insert_employee(id, name, age, department):\n",
    "    connection = sqlite3.connect('test.db')\n",
    "    cursor = connection.cursor()\n",
    "    cursor.execute(\n",
    "        '''INSERT into employees(id,name, age, department)\n",
    "        Values(?,?,?,?)'''\n",
    "    ,(id, name, age, department))\n",
    "    connection.commit()\n",
    "    connection.close()\n",
    "    print(\"Employee added successfully\")"
   ]
  },
  {
   "cell_type": "markdown",
   "id": "058a404c",
   "metadata": {},
   "source": [
    "#### 2. Insert at least 5 different employees into the `employees` table."
   ]
  },
  {
   "cell_type": "code",
   "execution_count": 46,
   "id": "bec8433a",
   "metadata": {},
   "outputs": [
    {
     "name": "stdout",
     "output_type": "stream",
     "text": [
      "Employee added successfully\n",
      "Employee added successfully\n",
      "Employee added successfully\n",
      "Employee added successfully\n",
      "Employee added successfully\n"
     ]
    }
   ],
   "source": [
    "insert_employee(1001, 'Tanya Jaiswal',26,'C.A')\n",
    "insert_employee(1002,'Jai Jaiswal',28,'Quantum Engineer')\n",
    "insert_employee(1003,'Fuckminister',18,'Fuck')\n",
    "insert_employee(1004,'Rahul Gandhi',56,'Pappu')\n",
    "insert_employee(1005,'Narendra Modi',76,'Prime Minister')"
   ]
  },
  {
   "cell_type": "markdown",
   "id": "4259b54d",
   "metadata": {},
   "source": [
    "### Assignment 3: Querying Data"
   ]
  },
  {
   "cell_type": "markdown",
   "id": "474cfff8",
   "metadata": {},
   "source": [
    "#### 1. Write a Python function to fetch and display all records from the `employees` table."
   ]
  },
  {
   "cell_type": "code",
   "execution_count": 14,
   "id": "7f9ad167",
   "metadata": {},
   "outputs": [
    {
     "name": "stdout",
     "output_type": "stream",
     "text": [
      "(1001, 'Tanya Jaiswal', 26, 'C.A')\n",
      "(1002, 'Jai Jaiswal', 28, 'Quantum Engineer')\n",
      "(1003, 'Fuckminister', 18, 'Fuck')\n",
      "(1004, 'Rahul Gandhi', 56, 'Pappu')\n",
      "(1005, 'Narendra Modi', 76, 'Prime Minister')\n"
     ]
    }
   ],
   "source": [
    "def fetch_employee():\n",
    "    connection = sqlite3.connect('test.db')\n",
    "    cursor = connection.cursor()\n",
    "    cursor.execute('Select * from employees')\n",
    "    rows = cursor.fetchall()\n",
    "    for row in rows:\n",
    "        print(row)\n",
    "    connection.close()\n",
    "fetch_employee()"
   ]
  },
  {
   "cell_type": "markdown",
   "id": "d76b885a",
   "metadata": {},
   "source": [
    "#### 2. Write a Python function to fetch and display all employees from a specific department."
   ]
  },
  {
   "cell_type": "code",
   "execution_count": 15,
   "id": "5fab32fc",
   "metadata": {},
   "outputs": [
    {
     "name": "stdout",
     "output_type": "stream",
     "text": [
      "(1001, 'Tanya Jaiswal', 26, 'C.A')\n"
     ]
    }
   ],
   "source": [
    "def fetch_department(department):\n",
    "    connection = sqlite3.connect('test.db')\n",
    "    cursor = connection.cursor()\n",
    "    cursor.execute(\n",
    "        '''Select * From employees Where department = ?''',(department,)\n",
    "    )\n",
    "    rows = cursor.fetchall()\n",
    "    for row in rows:\n",
    "        print(row)\n",
    "    connection.close()\n",
    "fetch_department('C.A')"
   ]
  },
  {
   "cell_type": "markdown",
   "id": "e78ba82e",
   "metadata": {},
   "source": [
    "### Assignment 4: Updating Data"
   ]
  },
  {
   "cell_type": "markdown",
   "id": "18e8db16",
   "metadata": {},
   "source": [
    "#### 1. Write a Python function to update the department of an employee based on their `id`."
   ]
  },
  {
   "cell_type": "code",
   "execution_count": 16,
   "id": "ab01c8c1",
   "metadata": {},
   "outputs": [
    {
     "name": "stdout",
     "output_type": "stream",
     "text": [
      "Department Updated\n"
     ]
    }
   ],
   "source": [
    "def update_department(department,id):\n",
    "    connection = sqlite3.connect('test.db')\n",
    "    cursor = connection.cursor()\n",
    "    cursor.execute(\n",
    "        '''Update employees Set department = ? Where id = ?''',(department,id,)\n",
    "    )\n",
    "    connection.commit()\n",
    "    connection.close()\n",
    "    print(\"Department Updated\")\n",
    "update_department('Congress',1003)"
   ]
  },
  {
   "cell_type": "markdown",
   "id": "7af2bc1c",
   "metadata": {},
   "source": [
    "#### 2. Update the department of at least 2 employees and display the updated records."
   ]
  },
  {
   "cell_type": "code",
   "execution_count": 17,
   "id": "61fe8438",
   "metadata": {},
   "outputs": [
    {
     "name": "stdout",
     "output_type": "stream",
     "text": [
      "Department Updated\n",
      "(1001, 'Tanya Jaiswal', 26, 'C.A')\n",
      "(1002, 'Jai Jaiswal', 28, 'Quantum Engineer')\n",
      "(1003, 'Fuckminister', 18, 'Congress')\n",
      "(1004, 'Rahul Gandhi', 56, 'Whorehouse')\n",
      "(1005, 'Narendra Modi', 76, 'Prime Minister')\n"
     ]
    }
   ],
   "source": [
    "update_department('Whorehouse',1004)\n",
    "fetch_employee()"
   ]
  },
  {
   "cell_type": "markdown",
   "id": "c5ce82c4",
   "metadata": {},
   "source": [
    "### Assignment 5: Deleting Data"
   ]
  },
  {
   "cell_type": "markdown",
   "id": "65f9e19d",
   "metadata": {},
   "source": [
    "#### 1. Write a Python function to delete an employee from the `employees` table based on their `id`."
   ]
  },
  {
   "cell_type": "code",
   "execution_count": 19,
   "id": "9d326b72",
   "metadata": {},
   "outputs": [],
   "source": [
    "def delete_id(id):\n",
    "    connection = sqlite3.connect('test.db')\n",
    "    cursor = connection.cursor()\n",
    "    cursor.execute(\n",
    "        '''Delete from employees Where id = ?''',(id,)\n",
    "    )\n",
    "    connection.commit()\n",
    "    connection.close()\n",
    "    print(\"Record Deleted\")"
   ]
  },
  {
   "cell_type": "markdown",
   "id": "468d726f",
   "metadata": {},
   "source": [
    "#### 2. Delete at least 1 employee and display the remaining records."
   ]
  },
  {
   "cell_type": "code",
   "execution_count": 20,
   "id": "d5798674",
   "metadata": {},
   "outputs": [
    {
     "name": "stdout",
     "output_type": "stream",
     "text": [
      "Record Deleted\n",
      "(1001, 'Tanya Jaiswal', 26, 'C.A')\n",
      "(1002, 'Jai Jaiswal', 28, 'Quantum Engineer')\n",
      "(1004, 'Rahul Gandhi', 56, 'Whorehouse')\n",
      "(1005, 'Narendra Modi', 76, 'Prime Minister')\n"
     ]
    }
   ],
   "source": [
    "delete_id(1003)\n",
    "fetch_employee()"
   ]
  },
  {
   "cell_type": "markdown",
   "id": "bca741b5",
   "metadata": {},
   "source": [
    "### Assignment 6: Advanced Queries"
   ]
  },
  {
   "cell_type": "markdown",
   "id": "a1cdcf8b",
   "metadata": {},
   "source": [
    "#### 1. Write a Python function to fetch and display employees older than a certain age."
   ]
  },
  {
   "cell_type": "code",
   "execution_count": 28,
   "id": "a916a6e8",
   "metadata": {},
   "outputs": [
    {
     "name": "stdout",
     "output_type": "stream",
     "text": [
      "('Tanya Jaiswal',)\n",
      "('Jai Jaiswal',)\n",
      "('Rahul Gandhi',)\n",
      "('Narendra Modi',)\n"
     ]
    }
   ],
   "source": [
    "def fetch_older_employees(age):\n",
    "    connection = sqlite3.connect('test.db')\n",
    "    cursor = connection.cursor()\n",
    "    cursor.execute(\n",
    "        'Select name From employees Where age > ?',(age,)\n",
    "    )\n",
    "    names = cursor.fetchall()\n",
    "    for name in names:\n",
    "        print(name)\n",
    "    connection.close()\n",
    "fetch_older_employees(25)"
   ]
  },
  {
   "cell_type": "markdown",
   "id": "d9abb686",
   "metadata": {},
   "source": [
    "#### 2. Write a Python function to fetch and display employees whose names start with a specific letter."
   ]
  },
  {
   "cell_type": "code",
   "execution_count": 29,
   "id": "ad2221cf",
   "metadata": {},
   "outputs": [
    {
     "name": "stdout",
     "output_type": "stream",
     "text": [
      "(1001, 'Tanya Jaiswal', 26, 'C.A')\n"
     ]
    }
   ],
   "source": [
    "def fetch_employee_name_starts_with(letter):\n",
    "    connection = sqlite3.connect('test.db')\n",
    "    cursor = connection.cursor()\n",
    "    cursor.execute('SELECT * FROM employees WHERE name LIKE ?',(letter+'%',))\n",
    "    records = cursor.fetchall()\n",
    "    connection.close()\n",
    "    for row in records:\n",
    "        print(row)\n",
    "fetch_employee_name_starts_with('T')"
   ]
  },
  {
   "cell_type": "markdown",
   "id": "81fd5c7d",
   "metadata": {},
   "source": [
    "### Assignment 7: Handling Transactions"
   ]
  },
  {
   "cell_type": "markdown",
   "id": "d9681e53",
   "metadata": {},
   "source": [
    "#### 1. Write a Python function to insert multiple employees into the `employees` table in a single transaction. Ensure that if any insertion fails, none of the insertions are committed."
   ]
  },
  {
   "cell_type": "code",
   "execution_count": 50,
   "id": "692c0bf9",
   "metadata": {},
   "outputs": [
    {
     "name": "stdout",
     "output_type": "stream",
     "text": [
      "Exception occured : UNIQUE constraint failed: employees.id\n"
     ]
    }
   ],
   "source": [
    "def insert_many(employees):\n",
    "    connection = sqlite3.connect('test.db')\n",
    "    cursor = connection.cursor()\n",
    "    try:\n",
    "        cursor.executemany(\n",
    "            '''INSERT INTO employees(id, name, age, department)\n",
    "            VALUES(?,?,?,?)''',employees\n",
    "        )\n",
    "        connection.commit()\n",
    "        print(\"All Employee record added successfully\")\n",
    "    except Exception as e:\n",
    "        connection.rollback()\n",
    "        print(f\"Exception occured : {e}\")\n",
    "    finally:\n",
    "        connection.close()\n",
    "employees = {\n",
    "    (1001,'Govind Jaiswal',28,'Data Science'),\n",
    "    (1002,'Tanya Jaiswal',26,'CA'),\n",
    "    (1003,'Jai Jaiswal',40,'Quantum Technology'),\n",
    "    (1004,'Amit Shukla',45,'Management'),\n",
    "    (1003,'Siddharth Shanti',38,'HR'),\n",
    "}\n",
    "insert_many(employees)"
   ]
  },
  {
   "cell_type": "markdown",
   "id": "9565356f",
   "metadata": {},
   "source": [
    "#### 2. Write a Python function to update the age of multiple employees in a single transaction. Ensure that if any update fails, none of the updates are committed."
   ]
  },
  {
   "cell_type": "code",
   "execution_count": 47,
   "id": "99360f05",
   "metadata": {},
   "outputs": [
    {
     "name": "stdout",
     "output_type": "stream",
     "text": [
      "Ages updated successfully\n"
     ]
    }
   ],
   "source": [
    "def update_all_age():\n",
    "    connection = sqlite3.connect('employees.db')\n",
    "    cursor = connection.cursor()\n",
    "    try:\n",
    "        cursor.execute(\n",
    "            'UPDATE employees SET age = age+1'\n",
    "        )\n",
    "        connection.commit()\n",
    "        print(\"Ages updated successfully\")\n",
    "    except Exception as e:\n",
    "        connection.rollback()\n",
    "        print(\"Error occured : \",e)\n",
    "    finally:\n",
    "        connection.close()\n",
    "update_all_age()"
   ]
  },
  {
   "cell_type": "markdown",
   "id": "ccc4e3c1",
   "metadata": {},
   "source": [
    "### Assignment 8: Creating Relationships"
   ]
  },
  {
   "cell_type": "markdown",
   "id": "7dbd4a34",
   "metadata": {},
   "source": [
    "#### 1. Create a new table named `departments` with columns `id` (integer) and `name` (text)."
   ]
  },
  {
   "cell_type": "code",
   "execution_count": 52,
   "id": "3534d671",
   "metadata": {},
   "outputs": [
    {
     "name": "stdout",
     "output_type": "stream",
     "text": [
      "departments table created successfully\n"
     ]
    }
   ],
   "source": [
    "connection = sqlite3.connect('employees.db')\n",
    "cursor = connection.cursor()\n",
    "cursor.execute(\n",
    "    '''CREATE TABLE IF NOT EXISTS departments(\n",
    "    id INTEGER NOT NULL PRIMARY KEY,\n",
    "    name TEXT NOT NULL\n",
    "    )'''\n",
    ")\n",
    "connection.commit()\n",
    "connection.close()\n",
    "print(\"departments table created successfully\")"
   ]
  },
  {
   "cell_type": "markdown",
   "id": "170ebd2c",
   "metadata": {},
   "source": [
    "#### 2. Modify the `employees` table to include a foreign key referencing the `id` column in the `departments` table."
   ]
  },
  {
   "cell_type": "code",
   "execution_count": 55,
   "id": "2c70873b",
   "metadata": {},
   "outputs": [
    {
     "ename": "OperationalError",
     "evalue": "database is locked",
     "output_type": "error",
     "traceback": [
      "\u001b[1;31m---------------------------------------------------------------------------\u001b[0m",
      "\u001b[1;31mOperationalError\u001b[0m                          Traceback (most recent call last)",
      "Cell \u001b[1;32mIn[55], line 25\u001b[0m\n\u001b[0;32m     23\u001b[0m     connection\u001b[38;5;241m.\u001b[39mclose()\n\u001b[0;32m     24\u001b[0m     \u001b[38;5;28mprint\u001b[39m(\u001b[38;5;124m\"\u001b[39m\u001b[38;5;124mTable employees modified successfully\u001b[39m\u001b[38;5;124m\"\u001b[39m)\n\u001b[1;32m---> 25\u001b[0m \u001b[43madd_dept_foreign_key\u001b[49m\u001b[43m(\u001b[49m\u001b[43m)\u001b[49m\n",
      "Cell \u001b[1;32mIn[55], line 6\u001b[0m, in \u001b[0;36madd_dept_foreign_key\u001b[1;34m()\u001b[0m\n\u001b[0;32m      4\u001b[0m cursor\u001b[38;5;241m.\u001b[39mexecute(\u001b[38;5;124m'\u001b[39m\u001b[38;5;124mPRAGMA foreign_key = off;\u001b[39m\u001b[38;5;124m'\u001b[39m)\n\u001b[0;32m      5\u001b[0m cursor\u001b[38;5;241m.\u001b[39mexecute(\u001b[38;5;124m'\u001b[39m\u001b[38;5;124mBEGIN TRANSACTION;\u001b[39m\u001b[38;5;124m'\u001b[39m)\n\u001b[1;32m----> 6\u001b[0m \u001b[43mcursor\u001b[49m\u001b[38;5;241;43m.\u001b[39;49m\u001b[43mexecute\u001b[49m\u001b[43m(\u001b[49m\u001b[38;5;124;43m'\u001b[39;49m\u001b[38;5;124;43mALTER TABLE employees RENAME TO old_employees;\u001b[39;49m\u001b[38;5;124;43m'\u001b[39;49m\u001b[43m)\u001b[49m\n\u001b[0;32m      7\u001b[0m cursor\u001b[38;5;241m.\u001b[39mexecute(\n\u001b[0;32m      8\u001b[0m \u001b[38;5;250m    \u001b[39m\u001b[38;5;124;03m'''CREATE TABLE employees(\u001b[39;00m\n\u001b[0;32m      9\u001b[0m \u001b[38;5;124;03m    id INTEGER NOT NULL,\u001b[39;00m\n\u001b[1;32m   (...)\u001b[0m\n\u001b[0;32m     14\u001b[0m \u001b[38;5;124;03m    );'''\u001b[39;00m\n\u001b[0;32m     15\u001b[0m )\n\u001b[0;32m     16\u001b[0m cursor\u001b[38;5;241m.\u001b[39mexecute(\n\u001b[0;32m     17\u001b[0m \u001b[38;5;250m    \u001b[39m\u001b[38;5;124;03m'''INSERT INTO employees(id,name,age,department)\u001b[39;00m\n\u001b[0;32m     18\u001b[0m \u001b[38;5;124;03m    SELECT id, name, age, department FROM old_employees;'''\u001b[39;00m\n\u001b[0;32m     19\u001b[0m )\n",
      "\u001b[1;31mOperationalError\u001b[0m: database is locked"
     ]
    }
   ],
   "source": [
    "def add_dept_foreign_key():\n",
    "    connection = sqlite3.connect('employees.db')\n",
    "    cursor = connection.cursor()\n",
    "    cursor.execute('PRAGMA foreign_key = off;')\n",
    "    cursor.execute('BEGIN TRANSACTION;')\n",
    "    cursor.execute('ALTER TABLE employees RENAME TO old_employees;')\n",
    "    cursor.execute(\n",
    "        '''CREATE TABLE employees(\n",
    "        id INTEGER NOT NULL,\n",
    "        name TEXT NOT NULL,\n",
    "        age INTEGER,\n",
    "        department TEXT NOT NULL,\n",
    "        FOREIGN KEY(id) REFERENCES departments(id)\n",
    "        );'''\n",
    "    )\n",
    "    cursor.execute(\n",
    "        '''INSERT INTO employees(id,name,age,department)\n",
    "        SELECT id, name, age, department FROM old_employees;'''\n",
    "    )\n",
    "    cursor.execute('DROP TABLE old_employees;')\n",
    "    cursor.execute('COMMIT;')\n",
    "    cursor.execute('PRAGMA foreign_key = on;')\n",
    "    connection.close()\n",
    "    print(\"Table employees modified successfully\")\n",
    "add_dept_foreign_key()"
   ]
  },
  {
   "cell_type": "markdown",
   "id": "daa7e158",
   "metadata": {},
   "source": [
    "### Assignment 9: Indexing and Optimization"
   ]
  },
  {
   "cell_type": "markdown",
   "id": "d085f9d4",
   "metadata": {},
   "source": [
    "#### 1. Create an index on the `name` column of the `employees` table."
   ]
  },
  {
   "cell_type": "code",
   "execution_count": 57,
   "id": "f8c21462",
   "metadata": {},
   "outputs": [],
   "source": [
    "connection = sqlite3.connect('employees.db')\n",
    "cursor = connection.cursor()\n",
    "cursor.execute('CREATE INDEX idx_name on employees(name)')\n",
    "connection.commit()\n",
    "connection.close()"
   ]
  },
  {
   "cell_type": "markdown",
   "id": "def8e093",
   "metadata": {},
   "source": []
  },
  {
   "cell_type": "markdown",
   "id": "043bb70d",
   "metadata": {},
   "source": []
  },
  {
   "cell_type": "code",
   "execution_count": null,
   "id": "c623307f",
   "metadata": {},
   "outputs": [],
   "source": []
  },
  {
   "cell_type": "markdown",
   "id": "b09ba38e",
   "metadata": {},
   "source": []
  },
  {
   "cell_type": "code",
   "execution_count": null,
   "id": "b49d154d",
   "metadata": {},
   "outputs": [],
   "source": []
  }
 ],
 "metadata": {
  "kernelspec": {
   "display_name": "Python 3",
   "language": "python",
   "name": "python3"
  },
  "language_info": {
   "codemirror_mode": {
    "name": "ipython",
    "version": 3
   },
   "file_extension": ".py",
   "mimetype": "text/x-python",
   "name": "python",
   "nbconvert_exporter": "python",
   "pygments_lexer": "ipython3",
   "version": "3.12.5"
  }
 },
 "nbformat": 4,
 "nbformat_minor": 5
}

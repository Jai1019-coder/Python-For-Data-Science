{
 "cells": [
  {
   "cell_type": "markdown",
   "metadata": {},
   "source": [
    "# Module: File Handling Assignments\n",
    "## Lesson: File Handling and Operations\n",
    "### Assignment 1: Reading a File\n",
    "\n",
    "Write a function that reads the contents of a file named `sample.txt` and prints each line.\n",
    "\n",
    "### Assignment 2: Writing to a File\n",
    "\n",
    "Write a function that writes a list of strings to a file named `output.txt`, with each string on a new line.\n",
    "\n",
    "### Assignment 3: Copying a File\n",
    "\n",
    "Write a function that copies the contents of a file named `source.txt` to a new file named `destination.txt`.\n",
    "\n",
    "### Assignment 4: Appending to a File\n",
    "\n",
    "Write a function that appends a given string to the end of a file named `log.txt`.\n",
    "\n",
    "### Assignment 5: Counting Words in a File\n",
    "\n",
    "Write a function that reads the contents of a file named `document.txt` and returns the number of words in the file.\n",
    "\n",
    "### Assignment 6: Finding and Replacing Text\n",
    "\n",
    "Write a function that finds and replaces all occurrences of a given word in a file named `data.txt` with another word.\n",
    "\n",
    "### Assignment 7: Reading a File in Reverse\n",
    "\n",
    "Write a function that reads the contents of a file named `reverse.txt` and prints each line in reverse order.\n",
    "\n",
    "### Assignment 8: Counting Lines, Words, and Characters\n",
    "\n",
    "Write a function that reads the contents of a file named `stats.txt` and returns the number of lines, words, and characters in the file.\n",
    "\n",
    "### Assignment 9: Merging Multiple Files\n",
    "\n",
    "Write a function that merges the contents of multiple files into a single file named `merged.txt`.\n",
    "\n",
    "### Assignment 10: Splitting a Large File\n",
    "\n",
    "Write a function that splits a large file named `large.txt` into smaller files of 100 lines each.\n",
    "\n",
    "### Assignment 11: Creating a Log File\n",
    "\n",
    "Write a function that creates a log file named `activity.log` and writes log messages with timestamps.\n",
    "\n",
    "### Assignment 12: Binary File Operations\n",
    "\n",
    "Write a function that reads a binary file named `image.bin` and writes its contents to another binary file named `copy_image.bin`.\n",
    "\n",
    "### Assignment 13: CSV File Operations\n",
    "\n",
    "Write a function that reads a CSV file named `data.csv` and prints its contents as a list of dictionaries.\n",
    "\n",
    "### Assignment 14: JSON File Operations\n",
    "\n",
    "Write a function that reads a JSON file named `data.json` and prints its contents as a Python dictionary.\n",
    "\n",
    "### Assignment 15: File Permission Handling\n",
    "\n",
    "Write a function that attempts to read a file named `protected.txt` and handles any permission errors gracefully by printing an error message."
   ]
  },
  {
   "cell_type": "markdown",
   "id": "4671c326",
   "metadata": {},
   "source": [
    "### Assignment 1: Reading a File\n",
    "\n",
    "Write a function that reads the contents of a file named `sample.txt` and prints each line.\n"
   ]
  },
  {
   "cell_type": "code",
   "execution_count": 3,
   "metadata": {},
   "outputs": [
    {
     "name": "stdout",
     "output_type": "stream",
     "text": [
      "hello my name is Govind Jaiswal\n",
      "people also call me Jai Jaiswal\n",
      "what is your name?\n",
      "how are you?\n",
      "\n"
     ]
    }
   ],
   "source": [
    "def file_print(path):\n",
    "    with open('sample.txt', 'r') as file:\n",
    "        content = file.read()\n",
    "        print(content)\n",
    "file_print('sample.txt')"
   ]
  },
  {
   "cell_type": "markdown",
   "id": "d3aed88b",
   "metadata": {},
   "source": [
    "### Assignment 2: Writing to a File\n",
    "\n",
    "Write a function that writes a list of strings to a file named `output.txt`, with each string on a new line.\n"
   ]
  },
  {
   "cell_type": "code",
   "execution_count": 4,
   "id": "e8f47a8a",
   "metadata": {},
   "outputs": [],
   "source": [
    "def file_wite():\n",
    "    with open('output.txt','w') as file:\n",
    "        content = \"My name is Govind Jaiwal. Who are you fucking here?\"\n",
    "        for i in content:\n",
    "            file.write(i+'\\n')\n",
    "file_wite()"
   ]
  },
  {
   "cell_type": "markdown",
   "id": "1a1f1289",
   "metadata": {},
   "source": [
    "### Assignment 3: Copying a File\n",
    "\n",
    "Write a function that copies the contents of a file named `source.txt` to a new file named `destination.txt`."
   ]
  },
  {
   "cell_type": "code",
   "execution_count": 5,
   "id": "2bdc92c5",
   "metadata": {},
   "outputs": [],
   "source": [
    "with open('sample.txt','r') as source_file:\n",
    "    content = source_file.read()\n",
    "with open('output.txt','w') as destinattion_file:\n",
    "    destinattion_file.write(content)"
   ]
  },
  {
   "cell_type": "markdown",
   "id": "1a73776f",
   "metadata": {},
   "source": [
    "### Assignment 4: Appending to a File\n",
    "\n",
    "Write a function that appends a given string to the end of a file named `log.txt`."
   ]
  },
  {
   "cell_type": "code",
   "execution_count": 6,
   "id": "9513fb01",
   "metadata": {},
   "outputs": [],
   "source": [
    "with open('log.txt','w') as file:\n",
    "    file.write(\"Fuck\")\n",
    "with open('log.txt','a') as file:\n",
    "    file.write(\"Boy ans Fuck Girl\")"
   ]
  },
  {
   "cell_type": "markdown",
   "id": "3cbdc3b9",
   "metadata": {},
   "source": [
    "### Assignment 5: Counting Words in a File\n",
    "\n",
    "Write a function that reads the contents of a file named `document.txt` and returns the number of words in the file."
   ]
  },
  {
   "cell_type": "code",
   "execution_count": 10,
   "id": "ee3cb9a3",
   "metadata": {},
   "outputs": [
    {
     "name": "stdout",
     "output_type": "stream",
     "text": [
      "29\n"
     ]
    }
   ],
   "source": [
    "with open('document.txt','r') as file:\n",
    "    content = file.read()\n",
    "    count = 0\n",
    "    for i in content:\n",
    "        if(i == \" \" or i == \".\" or i == \",\"):\n",
    "            count+=1\n",
    "    count+=1\n",
    "print(count)\n"
   ]
  },
  {
   "cell_type": "markdown",
   "id": "8464fc22",
   "metadata": {},
   "source": [
    "### Assignment 6: Finding and Replacing Text\n",
    "\n",
    "Write a function that finds and replaces all occurrences of a given word in a file named `data.txt` with another word."
   ]
  },
  {
   "cell_type": "code",
   "execution_count": 14,
   "id": "aee0c170",
   "metadata": {},
   "outputs": [],
   "source": [
    "with open('data.txt','r+') as file:\n",
    "    content = file.read()\n",
    "    content = content.replace(\"Spider-Man\",\"Iron-Man\")\n",
    "    content = content.replace(\"Peter\",\"Tony\")\n",
    "    content = content.replace(\"Parker\",\"Stark\")\n",
    "    file.seek(0)\n",
    "    file.write(content)\n",
    "file.close()"
   ]
  },
  {
   "cell_type": "markdown",
   "id": "fddb48d0",
   "metadata": {},
   "source": [
    "### Assignment 7: Reading a File in Reverse\n",
    "\n",
    "Write a function that reads the contents of a file named `reverse.txt` and prints each line in reverse order.\n"
   ]
  },
  {
   "cell_type": "code",
   "execution_count": 20,
   "id": "5e85c6ce",
   "metadata": {},
   "outputs": [
    {
     "name": "stdout",
     "output_type": "stream",
     "text": [
      "follow.\n",
      "contraceptives, during a woman's fertile days, there is a relatively high probability that conception will\n",
      "of development with the beginning of the production of hCG marks the beginning of a pregnancy. Without\n",
      "migrates from the fallopian tube into the uterus. The nidation of the embryo called blastocyst at this stage\n",
      "sperm can fertilize it. The resulting zygote develops into the early embryonic stages and, in the meantime,\n",
      "fertilisable egg cell after or during an ovulation, or if an ovulation occurs hours or days later, one\n",
      "Sperm swim through the cervix and the uterus into the fallopian tubes of the woman. If they meet a\n",
      "\n",
      "through male ejaculation.\n",
      "coitus without a condom, sperm enter the vagina, first with the pre-ejaculate and then a larger amount\n",
      "baby or more children. The biological function of vaginal intercourse is human reproduction. During\n",
      "The desire for sensual pleasure is usually the main motivation for humans, and sometimes the wish to have a\n"
     ]
    }
   ],
   "source": [
    "def reverse_file(filename):\n",
    "    with open(filename, 'r+') as file:\n",
    "        lines = file.readlines()\n",
    "        for line in reversed(lines):\n",
    "            print(line.strip())\n",
    "# test\n",
    "reverse_file('reverse.txt')"
   ]
  },
  {
   "cell_type": "markdown",
   "id": "446639ea",
   "metadata": {},
   "source": [
    "### Assignment 8: Counting Lines, Words, and Characters\n",
    "\n",
    "Write a function that reads the contents of a file named `stats.txt` and returns the number of lines, words, and characters in the file.\n"
   ]
  },
  {
   "cell_type": "code",
   "execution_count": 26,
   "id": "5968b5f8",
   "metadata": {},
   "outputs": [
    {
     "name": "stdout",
     "output_type": "stream",
     "text": [
      "No of lines = 12\n",
      "No of words = 158\n",
      "No of characters = 983\n"
     ]
    }
   ],
   "source": [
    "def file_strcture_info(file):\n",
    "    with open(file,'r') as file:\n",
    "        lines = file.readlines()\n",
    "        file.seek(0)\n",
    "        words = file.read().split()\n",
    "        file.seek(0)\n",
    "        characters = [i for i in file.read()]\n",
    "        print(f\"No of lines = {len(lines)}\")\n",
    "        print(f\"No of words = {len(words)}\")\n",
    "        print(f\"No of characters = {len(characters)}\")\n",
    "file_strcture_info('stats.txt')"
   ]
  },
  {
   "cell_type": "markdown",
   "id": "75bdb990",
   "metadata": {},
   "source": [
    "### Assignment 9: Merging Multiple Files\n",
    "\n",
    "Write a function that merges the contents of multiple files into a single file named `merged.txt`.\n"
   ]
  },
  {
   "cell_type": "code",
   "execution_count": 29,
   "id": "8d401fd7",
   "metadata": {},
   "outputs": [],
   "source": [
    "def file_merging(*filenames):\n",
    "    with open('merged.txt','a') as file:\n",
    "        for i in range(0, len(filenames)):\n",
    "            with open(filenames[i], 'r') as file2:\n",
    "                content = file2.read()\n",
    "                file.write(content+'\\n')\n",
    "                file2.close()\n",
    "file_merging('sample.txt','data.txt','reverse.txt')"
   ]
  },
  {
   "cell_type": "markdown",
   "id": "9361a648",
   "metadata": {},
   "source": [
    "### Assignment 10: Splitting a Large File\n",
    "\n",
    "Write a function that splits a large file named `large.txt` into smaller files of 100 lines each.\n"
   ]
  },
  {
   "cell_type": "code",
   "execution_count": 38,
   "id": "411b1bc3",
   "metadata": {},
   "outputs": [],
   "source": [
    "def split_files(filename, line_per_file):\n",
    "    with open(filename,'r') as file1:\n",
    "        lines = file1.readlines()\n",
    "        for i in range(0, len(lines), line_per_file):\n",
    "            with open(f'{filename}{i//line_per_file+1}.txt', 'w') as file_n:\n",
    "                file_n.writelines(lines[i:i+line_per_file])\n",
    "split_files('large.txt',100)"
   ]
  },
  {
   "cell_type": "markdown",
   "id": "8ca2b7bb",
   "metadata": {},
   "source": [
    "### Assignment 11: Creating a Log File\n",
    "\n",
    "Write a function that creates a log file named `activity.log` and writes log messages with timestamps."
   ]
  },
  {
   "cell_type": "code",
   "execution_count": 48,
   "id": "7e3c7c7c",
   "metadata": {},
   "outputs": [],
   "source": [
    "import datetime\n",
    "\n",
    "# def log_file(filename, msgs):\n",
    "#     with open(filename,'w') as file:\n",
    "#         timestamp = datetime.datetime.today().strftime(\"%Y-%m-%d %H:%M:%S\")\n",
    "#         file.write(timestamp+'\\n')\n",
    "#         file.writelines(msgs)\n",
    "# log_file('activity.log',[\"system corrupted\\n\",\"new file detected\\n\",\"virus detected\\n\"])\n",
    "def log_file(filename, msgs):\n",
    "    with open(filename,'w') as file:\n",
    "        timestamp = datetime.datetime.now().isoformat()\n",
    "        file.write(timestamp+'\\n')\n",
    "        file.writelines(msgs)\n",
    "log_file('activity.log',[\"system corrupted\\n\",\"new file detected\\n\",\"virus detected\\n\"])\n"
   ]
  },
  {
   "cell_type": "markdown",
   "id": "f8ec1123",
   "metadata": {},
   "source": [
    "### Assignment 12: Binary File Operations\n",
    "\n",
    "Write a function that reads a binary file named `image.bin` and writes its contents to another binary file named `copy_image.bin`."
   ]
  },
  {
   "cell_type": "code",
   "execution_count": 55,
   "id": "62360aa1",
   "metadata": {},
   "outputs": [
    {
     "name": "stdout",
     "output_type": "stream",
     "text": [
      "b''\n",
      "Content successfuly copied\n"
     ]
    }
   ],
   "source": [
    "def copy_bin(filename1, filename2):\n",
    "    with open(filename1, 'rb') as file1:\n",
    "        content = file1.read()\n",
    "        print(content)\n",
    "    with open(filename2, 'wb') as file2:\n",
    "        file2.write(content)\n",
    "        file2.write(b\"Content successfully copied\")\n",
    "    print('Content successfuly copied')\n",
    "copy_bin('image.bin','copy_image.bin')"
   ]
  },
  {
   "cell_type": "markdown",
   "id": "bd60c294",
   "metadata": {},
   "source": [
    "### Assignment 13: CSV File Operations\n",
    "\n",
    "Write a function that reads a CSV file named `data.csv` and prints its contents as a list of dictionaries."
   ]
  },
  {
   "cell_type": "code",
   "execution_count": 7,
   "id": "97281680",
   "metadata": {},
   "outputs": [
    {
     "data": {
      "text/plain": [
       "[{'EmpID': '1001', 'Name': 'Ravi Sharma', 'Salary': '50000'},\n",
       " {'EmpID': '1002', 'Name': 'Mahi Gautam', 'Salary': '70000'},\n",
       " {'EmpID': '1003', 'Name': 'Tanu Singh', 'Salary': '65000'}]"
      ]
     },
     "execution_count": 7,
     "metadata": {},
     "output_type": "execute_result"
    }
   ],
   "source": [
    "import csv\n",
    "\n",
    "def file_writer():\n",
    "    with open('data.csv','w',newline=\"\") as file:\n",
    "        file_writer = csv.writer(file)\n",
    "        file_writer.writerow(['EmpID','Name','Salary'])\n",
    "        while True:\n",
    "            id = int(input(\"Enter empID : \"))\n",
    "            name = input(\"Enter emp name : \")\n",
    "            salary = int(input(\"Enter emp salary : \"))\n",
    "            file_writer.writerow([id,name,salary])\n",
    "            print(\"{:^50}\".format(\"**Write operation successfully performed.**\"))\n",
    "            choice = input(\"Enter\\n1 for continue\\n0 to exit \")\n",
    "            if choice == 0:\n",
    "                break\n",
    "\n",
    "def read_dict(filename):\n",
    "    with open(filename, 'r') as file:\n",
    "        file_reader = csv.DictReader(file)\n",
    "        return list(file_reader)\n",
    "read_dict('data.csv')"
   ]
  },
  {
   "cell_type": "markdown",
   "id": "9d4ae080",
   "metadata": {},
   "source": [
    "### Assignment 14: JSON File Operations\n",
    "\n",
    "Write a function that reads a JSON file named `data.json` and prints its contents as a Python dictionary."
   ]
  },
  {
   "cell_type": "code",
   "execution_count": 17,
   "id": "b92e5047",
   "metadata": {},
   "outputs": [
    {
     "data": {
      "text/plain": [
       "[{'EmpID': '1001', 'Name': 'Ravi Sharma', 'Salary': '50000'},\n",
       " {'EmpID': '1002', 'Name': 'Mahi Gautam', 'Salary': '70000'},\n",
       " {'EmpID': '1003', 'Name': 'Tanu Singh', 'Salary': '65000'}]"
      ]
     },
     "execution_count": 17,
     "metadata": {},
     "output_type": "execute_result"
    }
   ],
   "source": [
    "import json\n",
    "def json_writelist(filename, data):\n",
    "    with open(filename,'w') as file:\n",
    "        json.dump(data,file,indent=4)\n",
    "        print(\"{:^50}\".format(\"**Write operation successfully performed.**\"))\n",
    "def json_read(filename):\n",
    "    with open(filename,'r') as file:\n",
    "        data = json.load(file)\n",
    "        return data\n",
    "# data = read_dict('data.csv')\n",
    "# json_writelist('data.json',data)\n",
    "json_read('data.json')"
   ]
  },
  {
   "cell_type": "markdown",
   "id": "139eacad",
   "metadata": {},
   "source": [
    "### Assignment 15: File Permission Handling\n",
    "\n",
    "Write a function that attempts to read a file named `protected.txt` and handles any permission errors gracefully by printing an error message."
   ]
  },
  {
   "cell_type": "code",
   "execution_count": null,
   "id": "b7202ccf",
   "metadata": {},
   "outputs": [],
   "source": [
    "def read(filename):\n",
    "    try:\n",
    "        with open(filename, 'r') as file:\n",
    "            file_data = file.read()\n",
    "            return file_data\n",
    "    except PermissionError as e:\n",
    "        print(f\"Permission Error {e}\")\n",
    "read('protected.txt')"
   ]
  }
 ],
 "metadata": {
  "kernelspec": {
   "display_name": "Python 3",
   "language": "python",
   "name": "python3"
  },
  "language_info": {
   "codemirror_mode": {
    "name": "ipython",
    "version": 3
   },
   "file_extension": ".py",
   "mimetype": "text/x-python",
   "name": "python",
   "nbconvert_exporter": "python",
   "pygments_lexer": "ipython3",
   "version": "3.12.5"
  }
 },
 "nbformat": 4,
 "nbformat_minor": 5
}

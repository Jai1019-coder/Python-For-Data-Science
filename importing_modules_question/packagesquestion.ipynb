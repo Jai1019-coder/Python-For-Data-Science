{
 "cells": [
  {
   "cell_type": "markdown",
   "metadata": {},
   "source": [
    "# Module 5: Modules and Packages Assignments\n",
    "## Lesson 5.1: Importing Modules\n",
    "### Assignment 1: Importing and Using Modules\n",
    "\n",
    "Import the `math` module and use it to calculate the square root of 25 and the sine of 90 degrees.\n",
    "\n",
    "### Assignment 2: Aliasing Modules\n",
    "\n",
    "Import the `datetime` module with an alias and use it to print the current date and time.\n",
    "\n",
    "### Assignment 3: Importing Specific Functions\n",
    "\n",
    "Import the `randint` function from the `random` module and use it to generate a random integer between 1 and 100.\n",
    "\n",
    "### Assignment 4: Importing Multiple Functions\n",
    "\n",
    "Import the `sqrt` and `pow` functions from the `math` module and use them to calculate the square root of 16 and 2 raised to the power of 3.\n",
    "\n",
    "### Assignment 5: Handling Import Errors\n",
    "\n",
    "Write code that attempts to import a non-existent module and gracefully handles the import error by printing an error message.\n",
    "\n",
    "## Lesson 5.2: Standard Library Overview\n",
    "### Assignment 6: Working with the `os` Module\n",
    "\n",
    "Use the `os` module to create a new directory, list the contents of the current directory, and remove the newly created directory.\n",
    "\n",
    "### Assignment 7: Working with the `sys` Module\n",
    "\n",
    "Use the `sys` module to print the Python version currently in use and the command-line arguments passed to the script.\n",
    "\n",
    "### Assignment 8: Working with the `math` Module\n",
    "\n",
    "Use the `math` module to calculate the greatest common divisor (GCD) of two numbers and the factorial of a number.\n",
    "\n",
    "### Assignment 9: Working with the `datetime` Module\n",
    "\n",
    "Use the `datetime` module to print the current date, calculate the date 100 days from today, and determine the day of the week for a given date.\n",
    "\n",
    "### Assignment 10: Working with the `random` Module\n",
    "\n",
    "Use the `random` module to generate a list of 5 random numbers between 1 and 50 and shuffle the elements of a list.\n",
    "\n",
    "## Lesson 5.3: Creating and Using Packages\n",
    "### Assignment 11: Creating a Simple Package\n",
    "\n",
    "Create a package named `mypackage` with two modules: `module1` and `module2`. `module1` should contain a function that adds two numbers, and `module2` should contain a function that multiplies two numbers. Write code to use these functions.\n",
    "\n",
    "### Assignment 12: Using `__init__.py`\n",
    "\n",
    "Modify the `mypackage` package to include an `__init__.py` file that imports the functions from `module1` and `module2`. Write code to use these functions.\n",
    "\n",
    "### Assignment 13: Importing from a Package\n",
    "\n",
    "Write code to import and use the functions from `mypackage` without explicitly importing `module1` and `module2`.\n",
    "\n",
    "### Assignment 14: Relative Imports\n",
    "\n",
    "Create a subpackage named `subpackage` within `mypackage` and move `module2` into `subpackage`. Modify the import statements in `__init__.py` to use relative imports. Write code to use the functions from both modules.\n",
    "\n",
    "### Assignment 15: Handling Package Import Errors\n",
    "\n",
    "Write code that attempts to import a non-existent function from `mypackage` and gracefully handles the import error by printing an error message."
   ]
  },
  {
   "cell_type": "markdown",
   "id": "b9869b98",
   "metadata": {},
   "source": [
    "Question 1\n",
    "\n",
    "Import the `math` module and use it to calculate the square root of 25 and the sine of 90 degrees."
   ]
  },
  {
   "cell_type": "code",
   "execution_count": 2,
   "metadata": {},
   "outputs": [
    {
     "name": "stdout",
     "output_type": "stream",
     "text": [
      "5.0\n",
      "1.0\n"
     ]
    }
   ],
   "source": [
    "import math\n",
    "sqroot = math.sqrt(25)\n",
    "sine = math.sin((math.pi/180)*90)\n",
    "print(sqroot)\n",
    "print(sine)"
   ]
  },
  {
   "cell_type": "markdown",
   "id": "22774d46",
   "metadata": {},
   "source": [
    "Question 2\n",
    "\n",
    "Import the `datetime` module with an alias and use it to print the current date and time."
   ]
  },
  {
   "cell_type": "code",
   "execution_count": 4,
   "id": "41eb7c0c",
   "metadata": {},
   "outputs": [
    {
     "name": "stdout",
     "output_type": "stream",
     "text": [
      "2024-10-05 16:51:46.370601\n"
     ]
    }
   ],
   "source": [
    "import datetime as dt\n",
    "\n",
    "current = dt.datetime.now()\n",
    "print(current)"
   ]
  },
  {
   "cell_type": "markdown",
   "id": "c63e0a5b",
   "metadata": {},
   "source": [
    "Question 3\n",
    "\n",
    "Import the `randint` function from the `random` module and use it to generate a random integer between 1 and 100."
   ]
  },
  {
   "cell_type": "code",
   "execution_count": 25,
   "id": "6ce77c25",
   "metadata": {},
   "outputs": [
    {
     "name": "stdout",
     "output_type": "stream",
     "text": [
      "36\n"
     ]
    }
   ],
   "source": [
    "from random import randint\n",
    "\n",
    "random_integer = randint(1,100)\n",
    "print(random_integer)"
   ]
  },
  {
   "cell_type": "markdown",
   "id": "b64a9580",
   "metadata": {},
   "source": [
    "Question 4\n",
    "\n",
    "Import the `sqrt` and `pow` functions from the `math` module and use them to calculate the square root of 16 and 2 raised to the power of 3.\n"
   ]
  },
  {
   "cell_type": "code",
   "execution_count": 27,
   "id": "4f9e0b7e",
   "metadata": {},
   "outputs": [
    {
     "name": "stdout",
     "output_type": "stream",
     "text": [
      "4.0\n",
      "8.0\n"
     ]
    }
   ],
   "source": [
    "from math import sqrt, pow\n",
    "\n",
    "sqroot = sqrt(16)\n",
    "power = pow(2,3)\n",
    "print(sqroot)\n",
    "print(power)"
   ]
  },
  {
   "cell_type": "markdown",
   "id": "7d5c3f7b",
   "metadata": {},
   "source": [
    "Question 5\n",
    "\n",
    "Write code that attempts to import a non-existent module and gracefully handles the import error by printing an error message."
   ]
  },
  {
   "cell_type": "code",
   "execution_count": 28,
   "id": "2ba1a8e4",
   "metadata": {},
   "outputs": [
    {
     "name": "stdout",
     "output_type": "stream",
     "text": [
      "Module is not there\n"
     ]
    }
   ],
   "source": [
    "try:\n",
    "    import fuck\n",
    "except ImportError:\n",
    "    print(\"Module is not there\")"
   ]
  },
  {
   "cell_type": "markdown",
   "id": "1a4c02d0",
   "metadata": {},
   "source": [
    "Question 6\n",
    "\n",
    "Use the `os` module to create a new directory, list the contents of the current directory, and remove the newly created directory."
   ]
  },
  {
   "cell_type": "code",
   "execution_count": 35,
   "id": "255c1f19",
   "metadata": {},
   "outputs": [
    {
     "data": {
      "text/plain": [
       "['packagesquestion.ipynb', 'packagessolution.ipynb']"
      ]
     },
     "execution_count": 35,
     "metadata": {},
     "output_type": "execute_result"
    }
   ],
   "source": [
    "import os\n",
    "# os.mkdir('assignment.txt')\n",
    "os.listdir()\n",
    "os.rmdir('assignment.txt')\n",
    "os.listdir()"
   ]
  },
  {
   "cell_type": "markdown",
   "id": "6c0ac9e1",
   "metadata": {},
   "source": [
    "Question 7\n",
    "\n",
    "Use the `sys` module to print the Python version currently in use and the command-line arguments passed to the script."
   ]
  },
  {
   "cell_type": "code",
   "execution_count": 37,
   "id": "dc137909",
   "metadata": {},
   "outputs": [
    {
     "name": "stdout",
     "output_type": "stream",
     "text": [
      "Python version : ['C:\\\\Users\\\\Govind jaiswal\\\\AppData\\\\Roaming\\\\Python\\\\Python312\\\\site-packages\\\\ipykernel_launcher.py', '--f=\"c:\\\\Users\\\\Govind jaiswal\\\\AppData\\\\Roaming\\\\jupyter\\\\runtime\\\\kernel-v3cde5265f532bde800811c097148aa988c26dda5a.json\"']\n",
      "Command-line arguments: \n",
      "C:\\Users\\Govind jaiswal\\AppData\\Roaming\\Python\\Python312\\site-packages\\ipykernel_launcher.py\n",
      "--f=\"c:\\Users\\Govind jaiswal\\AppData\\Roaming\\jupyter\\runtime\\kernel-v3cde5265f532bde800811c097148aa988c26dda5a.json\"\n"
     ]
    }
   ],
   "source": [
    "import sys\n",
    "\n",
    "print(f\"Python version : {sys.argv}\")\n",
    "print(\"Command-line arguments: \")\n",
    "for arg in sys.argv:\n",
    "    print(arg)"
   ]
  },
  {
   "cell_type": "markdown",
   "id": "5acd39dd",
   "metadata": {},
   "source": [
    "Question 8\n",
    "\n",
    "Use the `math` module to calculate the greatest common divisor (GCD) of two numbers and the factorial of a number."
   ]
  },
  {
   "cell_type": "code",
   "execution_count": 38,
   "id": "f164b5c4",
   "metadata": {},
   "outputs": [
    {
     "name": "stdout",
     "output_type": "stream",
     "text": [
      "12\n",
      "620448401733239439360000\n"
     ]
    }
   ],
   "source": [
    "import math \n",
    "\n",
    "a = int(input(\"First number : \"))\n",
    "b = int(input(\"Second number : \"))\n",
    "print(math.gcd(a,b))\n",
    "print(math.factorial(a))"
   ]
  },
  {
   "cell_type": "markdown",
   "id": "f741f809",
   "metadata": {},
   "source": [
    "Question 9\n",
    "\n",
    "Use the `datetime` module to print the current date, calculate the date 100 days from today, and determine the day of the week for a given date."
   ]
  },
  {
   "cell_type": "code",
   "execution_count": 44,
   "id": "a183d2c3",
   "metadata": {},
   "outputs": [
    {
     "name": "stdout",
     "output_type": "stream",
     "text": [
      "2025-01-13\n",
      "Monday\n"
     ]
    }
   ],
   "source": [
    "import datetime\n",
    "\n",
    "current_date = datetime.date.today()\n",
    "hundred_days_after = current_date + datetime.timedelta(days = 100)\n",
    "print(hundred_days_after)\n",
    "day = datetime.date(2007,1,29)\n",
    "day_of_week = day.strftime(\"%A\")\n",
    "print(day_of_week)\n"
   ]
  },
  {
   "cell_type": "markdown",
   "id": "f86d30c9",
   "metadata": {},
   "source": [
    "Question 10\n",
    "\n",
    "Use the `random` module to generate a list of 5 random numbers between 1 and 50 and shuffle the elements of a list.\n"
   ]
  },
  {
   "cell_type": "code",
   "execution_count": 153,
   "id": "f314c30e",
   "metadata": {},
   "outputs": [
    {
     "name": "stdout",
     "output_type": "stream",
     "text": [
      "[36, 32, 37, 38, 35]\n",
      "[5, 1, 4, 3, 2]\n"
     ]
    }
   ],
   "source": [
    "import random\n",
    "\n",
    "lst = [random.randint(1,50) for _ in range(5)]\n",
    "print(lst)\n",
    "\n",
    "# shuffle a list\n",
    "lst2 = [1,2,3,4,5]\n",
    "random.shuffle(lst2)\n",
    "print(lst2)"
   ]
  },
  {
   "cell_type": "markdown",
   "id": "c82cbd3c",
   "metadata": {},
   "source": [
    "Question 11\n",
    "\n",
    "Create a package named `mypackage` with two modules: `module1` and `module2`. `module1` should contain a function that adds two numbers, and `module2` should contain a function that multiplies two numbers. Write code to use these functions."
   ]
  },
  {
   "cell_type": "code",
   "execution_count": 22,
   "id": "175b6c2d",
   "metadata": {},
   "outputs": [
    {
     "name": "stdout",
     "output_type": "stream",
     "text": [
      "6\n",
      "6\n"
     ]
    }
   ],
   "source": [
    "from mypackage.module1.add import add\n",
    "from mypackage.module2.mult import multiply\n",
    "\n",
    "print(add(2,3))\n",
    "print(multiply(2,3))"
   ]
  },
  {
   "cell_type": "markdown",
   "id": "aca2ad2b",
   "metadata": {},
   "source": [
    "Question 12\n",
    "\n",
    "Modify the `mypackage` package to include an `__init__.py` file that imports the functions from `module1` and `module2`. Write code to use these functions."
   ]
  },
  {
   "cell_type": "code",
   "execution_count": 28,
   "id": "fe7d6c7e",
   "metadata": {},
   "outputs": [
    {
     "name": "stdout",
     "output_type": "stream",
     "text": [
      "6\n"
     ]
    }
   ],
   "source": [
    "from mypackage.module1.add import add\n",
    "print(add(2,3))"
   ]
  },
  {
   "cell_type": "markdown",
   "id": "aeb75bbf",
   "metadata": {},
   "source": [
    "Question 13\n",
    "\n",
    "Write code to import and use the functions from `mypackage` without explicitly importing `module1` and `module2`."
   ]
  },
  {
   "cell_type": "code",
   "execution_count": null,
   "id": "78f16689",
   "metadata": {},
   "outputs": [],
   "source": [
    "from mypackage import module1\n",
    "print(m)"
   ]
  }
 ],
 "metadata": {
  "kernelspec": {
   "display_name": "Python 3",
   "language": "python",
   "name": "python3"
  },
  "language_info": {
   "codemirror_mode": {
    "name": "ipython",
    "version": 3
   },
   "file_extension": ".py",
   "mimetype": "text/x-python",
   "name": "python",
   "nbconvert_exporter": "python",
   "pygments_lexer": "ipython3",
   "version": "3.12.0"
  }
 },
 "nbformat": 4,
 "nbformat_minor": 5
}

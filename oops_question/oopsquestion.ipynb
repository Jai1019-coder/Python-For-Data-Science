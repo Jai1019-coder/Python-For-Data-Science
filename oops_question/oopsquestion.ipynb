{
 "cells": [
  {
   "cell_type": "markdown",
   "metadata": {},
   "source": [
    "# Module: OOP Assignments\n",
    "## Lesson: Polymorphism, Abstraction, and Encapsulation\n",
    "### Assignment 1: Polymorphism with Methods\n",
    "\n",
    "Create a base class named `Shape` with a method `area`. Create two derived classes `Circle` and `Square` that override the `area` method. Create a list of `Shape` objects and call the `area` method on each object to demonstrate polymorphism.\n",
    "\n",
    "### Assignment 2: Polymorphism with Function Arguments\n",
    "\n",
    "Create a function named `describe_shape` that takes a `Shape` object as an argument and calls its `area` method. Create objects of `Circle` and `Square` classes and pass them to the `describe_shape` function.\n",
    "\n",
    "### Assignment 3: Abstract Base Class with Abstract Methods\n",
    "\n",
    "Create an abstract base class named `Vehicle` with an abstract method `start_engine`. Create derived classes `Car` and `Bike` that implement the `start_engine` method. Create objects of the derived classes and call the `start_engine` method.\n",
    "\n",
    "### Assignment 4: Abstract Base Class with Concrete Methods\n",
    "\n",
    "In the `Vehicle` class, add a concrete method `fuel_type` that returns a generic fuel type. Override this method in `Car` and `Bike` classes to return specific fuel types. Create objects of the derived classes and call the `fuel_type` method.\n",
    "\n",
    "### Assignment 5: Encapsulation with Private Attributes\n",
    "\n",
    "Create a class named `BankAccount` with private attributes `account_number` and `balance`. Add methods to deposit and withdraw money, and to check the balance. Ensure that the balance cannot be accessed directly.\n",
    "\n",
    "### Assignment 6: Encapsulation with Property Decorators\n",
    "\n",
    "In the `BankAccount` class, use property decorators to get and set the `balance` attribute. Ensure that the balance cannot be set to a negative value.\n",
    "\n",
    "### Assignment 7: Combining Encapsulation and Inheritance\n",
    "\n",
    "Create a base class named `Person` with private attributes `name` and `age`. Add methods to get and set these attributes. Create a derived class named `Student` that adds an attribute `student_id`. Create an object of the `Student` class and test the encapsulation.\n",
    "\n",
    "### Assignment 8: Polymorphism with Inheritance\n",
    "\n",
    "Create a base class named `Animal` with a method `speak`. Create two derived classes `Dog` and `Cat` that override the `speak` method. Create a list of `Animal` objects and call the `speak` method on each object to demonstrate polymorphism.\n",
    "\n",
    "### Assignment 9: Abstract Methods in Base Class\n",
    "\n",
    "Create an abstract base class named `Employee` with an abstract method `calculate_salary`. Create two derived classes `FullTimeEmployee` and `PartTimeEmployee` that implement the `calculate_salary` method. Create objects of the derived classes and call the `calculate_salary` method.\n",
    "\n",
    "### Assignment 10: Encapsulation in Data Classes\n",
    "\n",
    "Create a data class named `Product` with private attributes `product_id`, `name`, and `price`. Add methods to get and set these attributes. Ensure that the price cannot be set to a negative value.\n",
    "\n",
    "### Assignment 11: Polymorphism with Operator Overloading\n",
    "\n",
    "Create a class named `Vector` with attributes `x` and `y`. Overload the `+` operator to add two `Vector` objects. Create objects of the class and test the operator overloading.\n",
    "\n",
    "### Assignment 12: Abstract Properties\n",
    "\n",
    "Create an abstract base class named `Appliance` with an abstract property `power`. Create two derived classes `WashingMachine` and `Refrigerator` that implement the `power` property. Create objects of the derived classes and access the `power` property.\n",
    "\n",
    "### Assignment 13: Encapsulation in Class Hierarchies\n",
    "\n",
    "Create a base class named `Account` with private attributes `account_number` and `balance`. Add methods to get and set these attributes. Create a derived class named `SavingsAccount` that adds an attribute `interest_rate`. Create an object of the `SavingsAccount` class and test the encapsulation.\n",
    "\n",
    "### Assignment 14: Polymorphism with Multiple Inheritance\n",
    "\n",
    "Create a class named `Flyer` with a method `fly`. Create a class named `Swimmer` with a method `swim`. Create a class named `Superhero` that inherits from both `Flyer` and `Swimmer` and overrides both methods. Create an object of the `Superhero` class and call both methods.\n",
    "\n",
    "### Assignment 15: Abstract Methods and Multiple Inheritance\n",
    "\n",
    "Create an abstract base class named `Worker` with an abstract method `work`. Create two derived classes `Engineer` and `Doctor` that implement the `work` method. Create another derived class `Scientist` that inherits from both `Engineer` and `Doctor`. Create an object of the `Scientist` class and call the `work` method."
   ]
  },
  {
   "cell_type": "markdown",
   "id": "eb669225",
   "metadata": {},
   "source": [
    "### Assignment 1: Polymorphism with Methods\n",
    "\n",
    "Create a base class named `Shape` with a method `area`. Create two derived classes `Circle` and `Square` that override the `area` method. Create a list of `Shape` objects and call the `area` method on each object to demonstrate polymorphism.\n"
   ]
  },
  {
   "cell_type": "code",
   "execution_count": 1,
   "id": "cae17972",
   "metadata": {},
   "outputs": [
    {
     "name": "stdout",
     "output_type": "stream",
     "text": [
      "78.53981633974483\n",
      "49\n"
     ]
    }
   ],
   "source": [
    "import math\n",
    "\n",
    "class Shape:\n",
    "    def __init__(self):\n",
    "        pass\n",
    "    def area(self):\n",
    "        pass\n",
    "class Circle(Shape):\n",
    "    def __init__(self, radius):\n",
    "        super().__init__()\n",
    "        self.radius = radius\n",
    "    def area(self):\n",
    "        return (math.pi*self.radius*self.radius)\n",
    "class Square(Shape):\n",
    "    def __init__(self, side):\n",
    "        super().__init__()\n",
    "        self.side = side\n",
    "    def area(self):\n",
    "        return self.side*self.side\n",
    "\n",
    "cr = Circle(5)\n",
    "print(cr.area())\n",
    "sq = Square(7)\n",
    "print(sq.area())"
   ]
  },
  {
   "cell_type": "markdown",
   "id": "64d8fce5",
   "metadata": {},
   "source": [
    "### Assignment 2: Polymorphism with Function Arguments\n",
    "\n",
    "Create a function named `describe_shape` that takes a `Shape` object as an argument and calls its `area` method. Create objects of `Circle` and `Square` classes and pass them to the `describe_shape` function."
   ]
  },
  {
   "cell_type": "code",
   "execution_count": 2,
   "id": "85e0b72d",
   "metadata": {},
   "outputs": [
    {
     "name": "stdout",
     "output_type": "stream",
     "text": [
      "78.53981633974483\n",
      "49\n"
     ]
    }
   ],
   "source": [
    "def describe_shape(s):\n",
    "    print(s.area())\n",
    "describe_shape(cr)\n",
    "describe_shape(sq)"
   ]
  },
  {
   "cell_type": "markdown",
   "id": "53b8d459",
   "metadata": {},
   "source": [
    "### Assignment 3: Abstract Base Class with Abstract Methods\n",
    "\n",
    "Create an abstract base class named `Vehicle` with an abstract method `start_engine`. Create derived classes `Car` and `Bike` that implement the `start_engine` method. Create objects of the derived classes and call the `start_engine` method."
   ]
  },
  {
   "cell_type": "code",
   "execution_count": 3,
   "id": "b03d98bc",
   "metadata": {},
   "outputs": [
    {
     "name": "stdout",
     "output_type": "stream",
     "text": [
      "Rolls Royace is started\n",
      "BMW bike is started\n"
     ]
    }
   ],
   "source": [
    "from abc import ABC, abstractmethod\n",
    "\n",
    "class Vehicle(ABC):\n",
    "    def __init__(self):\n",
    "        pass\n",
    "    @abstractmethod\n",
    "    def start_engine(self):\n",
    "        pass\n",
    "class Car(Vehicle):\n",
    "    def __init__(self, brand):\n",
    "        super().__init__()\n",
    "        self.brand = brand\n",
    "    def start_engine(self):\n",
    "        print(f\"{self.brand} is started\")\n",
    "class Bike(Vehicle):\n",
    "    def __init__(self, brand):\n",
    "        self.brand = brand\n",
    "    def start_engine(self):\n",
    "        print(f\"{self.brand} bike is started\")\n",
    "car1 = Car(\"Rolls Royace\")\n",
    "bike1 = Bike(\"BMW\")\n",
    "car1.start_engine()\n",
    "bike1.start_engine()\n"
   ]
  },
  {
   "cell_type": "markdown",
   "id": "294a757f",
   "metadata": {},
   "source": [
    "### Assignment 4: Abstract Base Class with Concrete Methods\n",
    "\n",
    "In the `Vehicle` class, add a concrete method `fuel_type` that returns a generic fuel type. Override this method in `Car` and `Bike` classes to return specific fuel types. Create objects of the derived classes and call the `fuel_type` method."
   ]
  },
  {
   "cell_type": "code",
   "execution_count": 5,
   "id": "ed630fd3",
   "metadata": {},
   "outputs": [
    {
     "name": "stdout",
     "output_type": "stream",
     "text": [
      "Fuel type is Electric\n",
      "Fuel type is Petrol\n"
     ]
    }
   ],
   "source": [
    "from abc import ABC, abstractmethod\n",
    "\n",
    "class Vehicle(ABC):\n",
    "    def __init__(self):\n",
    "        pass\n",
    "    @abstractmethod\n",
    "    def start_engine(self):\n",
    "        pass\n",
    "    def fuel_type(self):\n",
    "        print(\"Fuel type can be electric, diesel and petrol\")\n",
    "class Car(Vehicle):\n",
    "    def __init__(self, brand):\n",
    "        super().__init__()\n",
    "        self.brand = brand\n",
    "    def start_engine(self):\n",
    "        print(f\"{self.brand} is started\")\n",
    "    def fuel_type(self):\n",
    "        print(\"Fuel type is Electric\")\n",
    "class Bike(Vehicle):\n",
    "    def __init__(self, brand):\n",
    "        self.brand = brand\n",
    "    def start_engine(self):\n",
    "        print(f\"{self.brand} bike is started\")\n",
    "    def fuel_type(self):\n",
    "        print(\"Fuel type is Petrol\")\n",
    "car1 = Car(\"Audi\")\n",
    "bike1 = Bike(\"Royal Enfield\")\n",
    "car1.fuel_type()\n",
    "bike1.fuel_type()"
   ]
  },
  {
   "cell_type": "markdown",
   "id": "c2d8db8a",
   "metadata": {},
   "source": [
    "### Assignment 5: Encapsulation with Private Attributes\n",
    "\n",
    "Create a class named `BankAccount` with private attributes `account_number` and `balance`. Add methods to deposit and withdraw money, and to check the balance. Ensure that the balance cannot be accessed directly."
   ]
  },
  {
   "cell_type": "code",
   "execution_count": null,
   "id": "6da9e799",
   "metadata": {},
   "outputs": [],
   "source": [
    "class BankAccount:\n",
    "    def __init__(self,account_number,balance):\n",
    "        self.__account_number = account_number\n",
    "        self.__balance = balance\n",
    "    def deposit(self,money):\n",
    "        self.__balance+=money\n",
    "        print(f\"Amount {money} is deposited\")\n",
    "    def withdraw(self, money):\n",
    "        if self.__balance == 0:\n",
    "            print(\"No money is there to withdraw\")\n",
    "        elif self.__balance < money:\n",
    "            print(\"Amount is greater than balance\")\n",
    "        else:\n",
    "            print(f\"Amount {money} is withdrawed\")\n",
    "            self.__balance-=money"
   ]
  },
  {
   "cell_type": "markdown",
   "id": "39f5cde8",
   "metadata": {},
   "source": [
    "### Assignment 6: Encapsulation with Property Decorators\n",
    "\n",
    "In the `BankAccount` class, use property decorators to get and set the `balance` attribute. Ensure that the balance cannot be set to a negative value.\n"
   ]
  },
  {
   "cell_type": "code",
   "execution_count": 13,
   "id": "8ecc720c",
   "metadata": {},
   "outputs": [
    {
     "name": "stdout",
     "output_type": "stream",
     "text": [
      "Balance can't be negative\n"
     ]
    },
    {
     "data": {
      "text/plain": [
       "10000"
      ]
     },
     "execution_count": 13,
     "metadata": {},
     "output_type": "execute_result"
    }
   ],
   "source": [
    "class BankAccount:\n",
    "    def __init__(self,account_number,balance):\n",
    "        self.__account_number = account_number\n",
    "        self.__balance = balance\n",
    "    @property\n",
    "    def balance(self):\n",
    "        return self.__balance\n",
    "    @balance.setter\n",
    "    def balance(self, value):\n",
    "        if value<0:\n",
    "            print(\"Balance can't be negative\")\n",
    "        else:\n",
    "            self.__balance = value\n",
    "    def deposit(self,money):\n",
    "        if money < 0:\n",
    "            print(\"Money can't be less than zero\")\n",
    "            return \n",
    "        self.__balance+=money\n",
    "        print(f\"Amount {money} is deposited\")\n",
    "    @balance.getter\n",
    "    def withdraw(self, money):\n",
    "        if self.__balance == 0:\n",
    "            print(\"No money is there to withdraw\")\n",
    "        elif self.__balance < money:\n",
    "            print(\"Amount is greater than balance\")\n",
    "        else:\n",
    "            print(f\"Amount {money} is withdrawed\")\n",
    "            self.__balance-=money\n",
    "acc = BankAccount(123456789,5000)\n",
    "acc.balance = -100\n",
    "acc.balance = 10000\n",
    "acc.balance"
   ]
  },
  {
   "cell_type": "markdown",
   "id": "c65c5aa3",
   "metadata": {},
   "source": [
    "### Assignment 7: Combining Encapsulation and Inheritance\n",
    "\n",
    "Create a base class named `Person` with private attributes `name` and `age`. Add methods to get and set these attributes. Create a derived class named `Student` that adds an attribute `student_id`. Create an object of the `Student` class and test the encapsulation."
   ]
  },
  {
   "cell_type": "code",
   "execution_count": 16,
   "id": "497b0a7f",
   "metadata": {},
   "outputs": [
    {
     "name": "stdout",
     "output_type": "stream",
     "text": [
      "Jai Jaiswal\n",
      "Govind Jaiswal\n",
      "19\n",
      "20\n"
     ]
    }
   ],
   "source": [
    "class Person:\n",
    "    def __init__(self,name, age):\n",
    "        self.__name = name\n",
    "        self.__age = age\n",
    "    def set_name(self, new_name):\n",
    "        self.__name = new_name\n",
    "    def set_age(self, new_age):\n",
    "        self.__age = new_age\n",
    "    def get_age(self):\n",
    "        return self.__age\n",
    "    def get_name(self):\n",
    "        return self.__name\n",
    "class Student(Person):\n",
    "    def __init__(self, name, age, stu_id):\n",
    "        super().__init__(name, age)\n",
    "        self.stu_id = stu_id\n",
    "st1 = Student(\"Jai Jaiswal\",19, 2310031)\n",
    "print(st1.get_name())\n",
    "st1.set_name(\"Govind Jaiswal\")\n",
    "print(st1.get_name())\n",
    "print(st1.get_age())\n",
    "st1.set_age(20)\n",
    "print(st1.get_age())"
   ]
  },
  {
   "cell_type": "markdown",
   "id": "45a34fab",
   "metadata": {},
   "source": [
    "### Assignment 8: Polymorphism with Inheritance\n",
    "\n",
    "Create a base class named `Animal` with a method `speak`. Create two derived classes `Dog` and `Cat` that override the `speak` method. Create a list of `Animal` objects and call the `speak` method on each object to demonstrate polymorphism."
   ]
  },
  {
   "cell_type": "code",
   "execution_count": 17,
   "id": "1c339dcb",
   "metadata": {},
   "outputs": [
    {
     "name": "stdout",
     "output_type": "stream",
     "text": [
      "Dog barks!!\n",
      "Cat says Meow!!\n"
     ]
    }
   ],
   "source": [
    "class Animal:\n",
    "    def __init__(self):\n",
    "        pass\n",
    "    def speak(self):\n",
    "        pass\n",
    "class Dog(Animal):\n",
    "    def __init__(self):\n",
    "        super().__init__()\n",
    "    def speak(self):\n",
    "        print(\"Dog barks!!\")\n",
    "class Cat(Animal):\n",
    "    def __init__(self):\n",
    "        pass\n",
    "    def speak(self):\n",
    "        print(\"Cat says Meow!!\")\n",
    "d1 = Dog()\n",
    "c1 = Cat()\n",
    "d1.speak()\n",
    "c1.speak()"
   ]
  },
  {
   "cell_type": "markdown",
   "id": "3e1c5de9",
   "metadata": {},
   "source": [
    "### Assignment 9: Abstract Methods in Base Class\n",
    "\n",
    "Create an abstract base class named `Employee` with an abstract method `calculate_salary`. Create two derived classes `FullTimeEmployee` and `PartTimeEmployee` that implement the `calculate_salary` method. Create objects of the derived classes and call the `calculate_salary` method."
   ]
  },
  {
   "cell_type": "code",
   "execution_count": null,
   "id": "9bb720ca",
   "metadata": {},
   "outputs": [],
   "source": [
    "from abc import ABC, abstractmethod\n",
    "\n",
    "class Employee(ABC):\n",
    "    def __init__(self, perday_wage):\n",
    "        self.perday_wage = perday_wage\n",
    "\n",
    "    @abstractmethod\n",
    "    def calcultate_salary(self):\n",
    "        pass\n",
    "class FullTimeEmployee(Employee):\n",
    "    def __init__(self, perday_wage):\n",
    "        super().__init__(perday_wage)\n",
    "    def calcultate_salary(self):\n",
    "        return self.perday_wage*30\n",
    "class PartTimeEmployee(Employee):\n",
    "    def __init__(self, perday_wage):\n",
    "        super().__init__()\n",
    "    def calculate_salary(self):\n",
    "        return self.perday_wage*30"
   ]
  },
  {
   "cell_type": "markdown",
   "id": "921644e0",
   "metadata": {},
   "source": [
    "### Assignment 10: Encapsulation in Data Classes\n",
    "\n",
    "Create a data class named `Product` with private attributes `product_id`, `name`, and `price`. Add methods to get and set these attributes. Ensure that the price cannot be set to a negative value."
   ]
  },
  {
   "cell_type": "markdown",
   "id": "28164186",
   "metadata": {},
   "source": [
    "### Assignment 11: Polymorphism with Operator Overloading\n",
    "\n",
    "Create a class named `Vector` with attributes `x` and `y`. Overload the `+` operator to add two `Vector` objects. Create objects of the class and test the operator overloading.\n"
   ]
  },
  {
   "cell_type": "markdown",
   "id": "4b883a8e",
   "metadata": {},
   "source": [
    "### Assignment 12: Abstract Properties\n",
    "\n",
    "Create an abstract base class named `Appliance` with an abstract property `power`. Create two derived classes `WashingMachine` and `Refrigerator` that implement the `power` property. Create objects of the derived classes and access the `power` property.\n"
   ]
  },
  {
   "cell_type": "code",
   "execution_count": 25,
   "id": "d0924d83",
   "metadata": {},
   "outputs": [
    {
     "data": {
      "text/plain": [
       "'400W'"
      ]
     },
     "execution_count": 25,
     "metadata": {},
     "output_type": "execute_result"
    }
   ],
   "source": [
    "class Appliance(ABC):\n",
    "    @property\n",
    "    @abstractmethod\n",
    "    def power(self):\n",
    "        pass\n",
    "class Refrigerator(Appliance):\n",
    "    @property\n",
    "    def power(self):\n",
    "        return \"400W\"\n",
    "class WashingMachine(Appliance):\n",
    "    @property\n",
    "    def power(self):\n",
    "        return \"600W\"\n",
    "r1 = Refrigerator()\n",
    "r1.power"
   ]
  },
  {
   "cell_type": "markdown",
   "id": "24d04961",
   "metadata": {},
   "source": [
    "### Assignment 13: Encapsulation in Class Hierarchies\n",
    "\n",
    "Create a base class named `Account` with private attributes `account_number` and `balance`. Add methods to get and set these attributes. Create a derived class named `SavingsAccount` that adds an attribute `interest_rate`. Create an object of the `SavingsAccount` class and test the encapsulation.\n"
   ]
  },
  {
   "cell_type": "markdown",
   "id": "a2a62275",
   "metadata": {},
   "source": [
    "### Assignment 14: Polymorphism with Multiple Inheritance\n",
    "\n",
    "Create a class named `Flyer` with a method `fly`. Create a class named `Swimmer` with a method `swim`. Create a class named `Superhero` that inherits from both `Flyer` and `Swimmer` and overrides both methods. Create an object of the `Superhero` class and call both methods.\n"
   ]
  },
  {
   "cell_type": "markdown",
   "id": "0c829067",
   "metadata": {},
   "source": [
    "### Assignment 15: Abstract Methods and Multiple Inheritance\n",
    "\n",
    "Create an abstract base class named `Worker` with an abstract method `work`. Create two derived classes `Engineer` and `Doctor` that implement the `work` method. Create another derived class `Scientist` that inherits from both `Engineer` and `Doctor`. Create an object of the `Scientist` class and call the `work` method."
   ]
  },
  {
   "cell_type": "code",
   "execution_count": 27,
   "id": "5fa1f14a",
   "metadata": {},
   "outputs": [
    {
     "name": "stdout",
     "output_type": "stream",
     "text": [
      "Doctor examines on the basis of science principles\n",
      "Engineer executes science principles\n"
     ]
    }
   ],
   "source": [
    "class Worker(ABC):\n",
    "    def work(self):\n",
    "        pass\n",
    "class Engineer(Worker):\n",
    "    def work(self):\n",
    "        print(\"Engineer executes science principles\")\n",
    "class Doctor(Worker):\n",
    "    def work(self):\n",
    "        print(\"Doctor examines on the basis of science principles\")\n",
    "class Scientist(Engineer, Doctor):\n",
    "    def work(self):\n",
    "        Doctor.work(self)\n",
    "        Engineer.work(self)\n",
    "einstien = Scientist()\n",
    "einstien.work()"
   ]
  },
  {
   "cell_type": "markdown",
   "id": "8ddfc4f0",
   "metadata": {},
   "source": []
  },
  {
   "cell_type": "markdown",
   "id": "bd53204a",
   "metadata": {},
   "source": []
  },
  {
   "cell_type": "markdown",
   "id": "04b6f61e",
   "metadata": {},
   "source": []
  },
  {
   "cell_type": "markdown",
   "id": "04eb1d0e",
   "metadata": {},
   "source": []
  },
  {
   "cell_type": "markdown",
   "id": "02bbc453",
   "metadata": {},
   "source": []
  }
 ],
 "metadata": {
  "kernelspec": {
   "display_name": "Python 3",
   "language": "python",
   "name": "python3"
  },
  "language_info": {
   "codemirror_mode": {
    "name": "ipython",
    "version": 3
   },
   "file_extension": ".py",
   "mimetype": "text/x-python",
   "name": "python",
   "nbconvert_exporter": "python",
   "pygments_lexer": "ipython3",
   "version": "3.12.5"
  }
 },
 "nbformat": 4,
 "nbformat_minor": 5
}

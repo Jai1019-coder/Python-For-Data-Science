{
 "cells": [
  {
   "cell_type": "markdown",
   "metadata": {},
   "source": [
    "# Module: Logging Assignments\n",
    "## Lesson: Logging\n",
    "### Assignment 1: Basic Logging\n",
    "\n",
    "1. Write a Python function to create a basic logger that logs messages to a file named `app.log`.\n",
    "2. Modify the function to log messages of levels: DEBUG, INFO, WARNING, ERROR, and CRITICAL.\n",
    "\n",
    "### Assignment 2: Logging with Different Handlers\n",
    "\n",
    "1. Write a Python function to create a logger that logs messages to both a file named `app.log` and the console.\n",
    "2. Modify the function to use different logging levels for the file and console handlers.\n",
    "\n",
    "### Assignment 3: Formatting Log Messages\n",
    "\n",
    "1. Write a Python function to create a logger with a custom log message format that includes the timestamp, logging level, and message.\n",
    "2. Modify the function to use different formats for the file and console handlers.\n",
    "\n",
    "### Assignment 4: Rotating Log Files\n",
    "\n",
    "1. Write a Python function to create a logger that uses a rotating file handler, which creates a new log file when the current log file reaches a certain size.\n",
    "2. Modify the function to keep a specified number of backup log files.\n",
    "\n",
    "### Assignment 5: Logging Exceptions\n",
    "\n",
    "1. Write a Python function that logs an exception stack trace to a log file when an exception occurs.\n",
    "2. Modify the function to log the stack trace at the ERROR level.\n",
    "\n",
    "### Assignment 6: Contextual Logging\n",
    "\n",
    "1. Write a Python function to create a logger that includes contextual information (e.g., function name, line number) in the log messages.\n",
    "2. Modify the function to include additional contextual information (e.g., user ID, session ID).\n",
    "\n",
    "### Assignment 7: Configuring Logging with a Dictionary\n",
    "\n",
    "1. Write a Python function to configure logging using a dictionary. The configuration should include handlers for both file and console logging.\n",
    "2. Modify the dictionary to include different logging levels and formats for each handler.\n",
    "\n",
    "### Assignment 8: Logging in a Multi-Module Application\n",
    "\n",
    "1. Write a Python script that sets up logging for a multi-module application. Each module should have its own logger.\n",
    "2. Modify the script to propagate log messages from each module's logger to a root logger that handles logging to a file.\n",
    "\n",
    "### Assignment 9: Logging Performance\n",
    "\n",
    "1. Write a Python script to benchmark the performance of logging with different handlers (e.g., file handler, console handler, rotating file handler).\n",
    "2. Modify the script to compare the performance of logging with and without message formatting.\n",
    "\n",
    "### Assignment 10: Advanced Logging Configuration\n",
    "\n",
    "1. Write a Python function to configure logging using an external configuration file (e.g., `logging.conf`). The configuration should include handlers for file and console logging.\n",
    "2. Modify the configuration file to use different logging levels and formats for each handler."
   ]
  },
  {
   "cell_type": "code",
   "execution_count": 1,
   "id": "fc12c207",
   "metadata": {},
   "outputs": [],
   "source": [
    "import logging"
   ]
  },
  {
   "cell_type": "markdown",
   "id": "20ff3ccf",
   "metadata": {},
   "source": [
    "### Assignment 1: Basic Logging\n"
   ]
  },
  {
   "cell_type": "markdown",
   "id": "6470e326",
   "metadata": {},
   "source": [
    "#### 1. Write a Python function to create a basic logger that logs messages to a file named `app.log`."
   ]
  },
  {
   "cell_type": "code",
   "execution_count": 2,
   "id": "a17aa7ba",
   "metadata": {},
   "outputs": [],
   "source": [
    "\n",
    "logging.basicConfig(\n",
    "    filename='app.log',\n",
    "    filemode='w',\n",
    "    level=logging.DEBUG,\n",
    "    format='%(asctime)s-%(name)s-%(levelname)s-%(message)s',\n",
    "    datefmt='%Y-%m-%d  %H:%M:%S'\n",
    ")\n",
    "logging.debug(\"Opening App\")"
   ]
  },
  {
   "cell_type": "markdown",
   "id": "473f326d",
   "metadata": {},
   "source": [
    "#### 2. Modify the function to log messages of levels: DEBUG, INFO, WARNING, ERROR, and CRITICAL."
   ]
  },
  {
   "cell_type": "code",
   "execution_count": null,
   "metadata": {},
   "outputs": [],
   "source": [
    "def logging():\n",
    "    logging.debug(\"This is debug message\")\n",
    "    logging."
   ]
  },
  {
   "cell_type": "markdown",
   "id": "9ed5845b",
   "metadata": {},
   "source": [
    " ### Assignment 2: Logging with Different Handlers"
   ]
  },
  {
   "cell_type": "markdown",
   "id": "744018e3",
   "metadata": {},
   "source": [
    "#### 1. Write a Python function to create a logger that logs messages to both a file named `app.log` and the console."
   ]
  },
  {
   "cell_type": "code",
   "execution_count": 6,
   "id": "0796474e",
   "metadata": {},
   "outputs": [
    {
     "name": "stderr",
     "output_type": "stream",
     "text": [
      "This is a debug message\n",
      "This is a debug message\n",
      "2024-11-03 18:35:45,455-My Logger-DEBUG-This is a debug message\n"
     ]
    }
   ],
   "source": [
    "def logging_with_handler():\n",
    "    logger = logging.getLogger(\"My Logger\")\n",
    "    logger.setLevel(logging.DEBUG)\n",
    "    formatter = logging.Formatter('%(asctime)s-%(name)s-%(levelname)s-%(message)s')\n",
    "    file_handler = logging.FileHandler('app.log')\n",
    "    console_handler = logging.StreamHandler()\n",
    "    file_handler.setFormatter(formatter)\n",
    "    console_handler.setFormatter(formatter)\n",
    "    logger.addHandler(file_handler)\n",
    "    logger.addHandler(console_handler)\n",
    "    logger.debug(\"This is a debug message\")\n",
    "logging_with_handler()"
   ]
  },
  {
   "cell_type": "markdown",
   "id": "d561db9a",
   "metadata": {},
   "source": [
    "#### 2. Modify the function to use different logging levels for the file and console handlers."
   ]
  },
  {
   "cell_type": "code",
   "execution_count": null,
   "id": "c9340b93",
   "metadata": {},
   "outputs": [],
   "source": []
  },
  {
   "cell_type": "markdown",
   "id": "ecd08778",
   "metadata": {},
   "source": [
    "### Assignment 3: Formatting Log Messages"
   ]
  },
  {
   "cell_type": "markdown",
   "id": "9818866a",
   "metadata": {},
   "source": [
    "#### 1. Write a Python function to create a logger with a custom log message format that includes the timestamp, logging level, and message."
   ]
  },
  {
   "cell_type": "code",
   "execution_count": null,
   "id": "406b5be3",
   "metadata": {},
   "outputs": [],
   "source": []
  },
  {
   "cell_type": "markdown",
   "id": "1ba53c5f",
   "metadata": {},
   "source": [
    "#### 2. Modify the function to use different formats for the file and console handlers."
   ]
  },
  {
   "cell_type": "code",
   "execution_count": null,
   "id": "09445440",
   "metadata": {},
   "outputs": [],
   "source": []
  },
  {
   "cell_type": "markdown",
   "id": "d9ee3833",
   "metadata": {},
   "source": [
    "### Assignment 4: Rotating Log Files"
   ]
  },
  {
   "cell_type": "markdown",
   "id": "fc9b4031",
   "metadata": {},
   "source": [
    "#### 1. Write a Python function to create a logger that uses a rotating file handler, which creates a new log file when the current log file reaches a certain size."
   ]
  },
  {
   "cell_type": "code",
   "execution_count": null,
   "id": "f525823a",
   "metadata": {},
   "outputs": [],
   "source": []
  },
  {
   "cell_type": "markdown",
   "id": "3141376f",
   "metadata": {},
   "source": [
    "#### 2. Modify the function to keep a specified number of backup log files."
   ]
  },
  {
   "cell_type": "code",
   "execution_count": null,
   "id": "f1a88ec7",
   "metadata": {},
   "outputs": [],
   "source": []
  },
  {
   "cell_type": "markdown",
   "id": "2b2465b4",
   "metadata": {},
   "source": [
    "### Assignment 5: Logging Exceptions"
   ]
  },
  {
   "cell_type": "markdown",
   "id": "3fa7eba3",
   "metadata": {},
   "source": [
    "#### \n",
    "1. Write a Python function that logs an exception stack trace to a log file when an exception occurs."
   ]
  },
  {
   "cell_type": "code",
   "execution_count": null,
   "id": "b6ac885f",
   "metadata": {},
   "outputs": [],
   "source": []
  },
  {
   "cell_type": "markdown",
   "id": "e3bb7259",
   "metadata": {},
   "source": [
    "#### 2. Modify the function to log the stack trace at the ERROR level."
   ]
  },
  {
   "cell_type": "code",
   "execution_count": null,
   "id": "aa2390c4",
   "metadata": {},
   "outputs": [],
   "source": []
  },
  {
   "cell_type": "markdown",
   "id": "b9d858b4",
   "metadata": {},
   "source": [
    " ### Assignment 6: Contextual Logging"
   ]
  },
  {
   "cell_type": "markdown",
   "id": "31b8a94a",
   "metadata": {},
   "source": [
    "#### \n",
    "1. Write a Python function to create a logger that includes contextual information (e.g., function name, line number) in the log messages."
   ]
  },
  {
   "cell_type": "code",
   "execution_count": null,
   "id": "61eb7735",
   "metadata": {},
   "outputs": [],
   "source": []
  },
  {
   "cell_type": "markdown",
   "id": "7199cdf2",
   "metadata": {},
   "source": [
    "2. Modify the function to include additional contextual information (e.g., user ID, session ID)"
   ]
  },
  {
   "cell_type": "code",
   "execution_count": null,
   "id": "247bdcac",
   "metadata": {},
   "outputs": [],
   "source": []
  },
  {
   "cell_type": "markdown",
   "id": "a5d0a255",
   "metadata": {},
   "source": [
    "### Assignment 7: Configuring Logging with a Dictionary"
   ]
  },
  {
   "cell_type": "markdown",
   "id": "ce8262b5",
   "metadata": {},
   "source": [
    "1. Write a Python function to configure logging using a dictionary. The configuration should include handlers for both file and console logging."
   ]
  },
  {
   "cell_type": "code",
   "execution_count": null,
   "id": "9f457e6a",
   "metadata": {},
   "outputs": [],
   "source": []
  },
  {
   "cell_type": "markdown",
   "id": "433a6b32",
   "metadata": {},
   "source": [
    "2. Modify the dictionary to include different logging levels and formats for each handler."
   ]
  },
  {
   "cell_type": "code",
   "execution_count": null,
   "id": "ecf5596d",
   "metadata": {},
   "outputs": [],
   "source": []
  },
  {
   "cell_type": "markdown",
   "id": "01dc8da0",
   "metadata": {},
   "source": [
    "### Assignment 8: Logging in a Multi-Module Application"
   ]
  },
  {
   "cell_type": "markdown",
   "id": "7deadd1e",
   "metadata": {},
   "source": [
    "1. Write a Python script that sets up logging for a multi-module application. Each module should have its own logger."
   ]
  },
  {
   "cell_type": "code",
   "execution_count": null,
   "id": "05d0d427",
   "metadata": {},
   "outputs": [],
   "source": []
  },
  {
   "cell_type": "markdown",
   "id": "7e2a2c42",
   "metadata": {},
   "source": [
    "2. Modify the script to propagate log messages from each module's logger to a root logger that handles logging to a file."
   ]
  },
  {
   "cell_type": "code",
   "execution_count": null,
   "id": "f812360a",
   "metadata": {},
   "outputs": [],
   "source": []
  },
  {
   "cell_type": "markdown",
   "id": "05350c11",
   "metadata": {},
   "source": [
    "### Assignment 9: Logging Performance"
   ]
  },
  {
   "cell_type": "markdown",
   "id": "d64cba4c",
   "metadata": {},
   "source": [
    "1. Write a Python script to benchmark the performance of logging with different handlers (e.g., file handler, console handler, rotating file handler)."
   ]
  },
  {
   "cell_type": "code",
   "execution_count": null,
   "id": "b79e8e8e",
   "metadata": {},
   "outputs": [],
   "source": []
  },
  {
   "cell_type": "markdown",
   "id": "adad38fe",
   "metadata": {},
   "source": [
    "2. Modify the script to compare the performance of logging with and without message formatting."
   ]
  },
  {
   "cell_type": "code",
   "execution_count": null,
   "id": "fb9363bb",
   "metadata": {},
   "outputs": [],
   "source": []
  },
  {
   "cell_type": "markdown",
   "id": "cdd33d5e",
   "metadata": {},
   "source": [
    "### Assignment 10: Advanced Logging Configuration"
   ]
  },
  {
   "cell_type": "markdown",
   "id": "bfaaf5d2",
   "metadata": {},
   "source": [
    "1. Write a Python function to configure logging using an external configuration file (e.g., `logging.conf`). The configuration should include handlers for file and console logging."
   ]
  },
  {
   "cell_type": "code",
   "execution_count": null,
   "id": "707632d4",
   "metadata": {},
   "outputs": [],
   "source": []
  },
  {
   "cell_type": "markdown",
   "id": "7a3d3206",
   "metadata": {},
   "source": [
    "2. Modify the configuration file to use different logging levels and formats for each handler."
   ]
  },
  {
   "cell_type": "code",
   "execution_count": null,
   "id": "d5667669",
   "metadata": {},
   "outputs": [],
   "source": []
  }
 ],
 "metadata": {
  "kernelspec": {
   "display_name": "Python 3",
   "language": "python",
   "name": "python3"
  },
  "language_info": {
   "codemirror_mode": {
    "name": "ipython",
    "version": 3
   },
   "file_extension": ".py",
   "mimetype": "text/x-python",
   "name": "python",
   "nbconvert_exporter": "python",
   "pygments_lexer": "ipython3",
   "version": "3.12.5"
  }
 },
 "nbformat": 4,
 "nbformat_minor": 5
}

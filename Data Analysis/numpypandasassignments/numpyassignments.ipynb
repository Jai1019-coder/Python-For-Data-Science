{
 "cells": [
  {
   "cell_type": "markdown",
   "metadata": {},
   "source": [
    "# Module: NumPy Assignments\n",
    "## Lesson: NumPy\n",
    "### Assignment 1: Array Creation and Manipulation\n",
    "\n",
    "1. Create a NumPy array of shape (5, 5) filled with random integers between 1 and 20. Replace all the elements in the third column with 1.\n",
    "2. Create a NumPy array of shape (4, 4) with values from 1 to 16. Replace the diagonal elements with 0.\n",
    "\n",
    "### Assignment 2: Array Indexing and Slicing\n",
    "\n",
    "1. Create a NumPy array of shape (6, 6) with values from 1 to 36. Extract the sub-array consisting of the 3rd to 5th rows and 2nd to 4th columns.\n",
    "2. Create a NumPy array of shape (5, 5) with random integers. Extract the elements on the border.\n",
    "\n",
    "### Assignment 3: Array Operations\n",
    "\n",
    "1. Create two NumPy arrays of shape (3, 4) filled with random integers. Perform element-wise addition, subtraction, multiplication, and division.\n",
    "2. Create a NumPy array of shape (4, 4) with values from 1 to 16. Compute the row-wise and column-wise sum.\n",
    "\n",
    "### Assignment 4: Statistical Operations\n",
    "\n",
    "1. Create a NumPy array of shape (5, 5) filled with random integers. Compute the mean, median, standard deviation, and variance of the array.\n",
    "2. Create a NumPy array of shape (3, 3) with values from 1 to 9. Normalize the array (i.e., scale the values to have a mean of 0 and a standard deviation of 1).\n",
    "\n",
    "### Assignment 5: Broadcasting\n",
    "\n",
    "1. Create a NumPy array of shape (3, 3) filled with random integers. Add a 1D array of shape (3,) to each row of the 2D array using broadcasting.\n",
    "2. Create a NumPy array of shape (4, 4) filled with random integers. Subtract a 1D array of shape (4,) from each column of the 2D array using broadcasting.\n",
    "\n",
    "### Assignment 6: Linear Algebra\n",
    "\n",
    "1. Create a NumPy array of shape (3, 3) representing a matrix. Compute its determinant, inverse, and eigenvalues.\n",
    "2. Create two NumPy arrays of shape (2, 3) and (3, 2). Perform matrix multiplication on these arrays.\n",
    "\n",
    "### Assignment 7: Advanced Array Manipulation\n",
    "\n",
    "1. Create a NumPy array of shape (3, 3) with values from 1 to 9. Reshape the array to shape (1, 9) and then to shape (9, 1).\n",
    "2. Create a NumPy array of shape (5, 5) filled with random integers. Flatten the array and then reshape it back to (5, 5).\n",
    "\n",
    "### Assignment 8: Fancy Indexing and Boolean Indexing\n",
    "\n",
    "1. Create a NumPy array of shape (5, 5) filled with random integers. Use fancy indexing to extract the elements at the corners of the array.\n",
    "2. Create a NumPy array of shape (4, 4) filled with random integers. Use boolean indexing to set all elements greater than 10 to 10.\n",
    "\n",
    "### Assignment 9: Structured Arrays\n",
    "\n",
    "1. Create a structured array with fields 'name' (string), 'age' (integer), and 'weight' (float). Add some data and sort the array by age.\n",
    "2. Create a structured array with fields 'x' and 'y' (both integers). Add some data and compute the Euclidean distance between each pair of points.\n",
    "\n",
    "### Assignment 10: Masked Arrays\n",
    "\n",
    "1. Create a masked array of shape (4, 4) with random integers and mask the elements greater than 10. Compute the sum of the unmasked elements.\n",
    "2. Create a masked array of shape (3, 3) with random integers and mask the diagonal elements. Replace the masked elements with the mean of the unmasked elements."
   ]
  },
  {
   "cell_type": "code",
   "execution_count": 2,
   "id": "a29b21f1",
   "metadata": {},
   "outputs": [],
   "source": [
    "import numpy as np\n",
    "import pandas as pd\n",
    "import matplotlib.pyplot as plt\n",
    "import random"
   ]
  },
  {
   "cell_type": "markdown",
   "id": "b1416713",
   "metadata": {},
   "source": [
    "### Assignment 1: Array Creation and Manipulation\n"
   ]
  },
  {
   "cell_type": "markdown",
   "id": "2f0d6ebf",
   "metadata": {},
   "source": [
    "#### 1. Create a NumPy array of shape (5, 5) filled with random integers between 1 and 20. Replace all the elements in the third column with 1."
   ]
  },
  {
   "cell_type": "code",
   "execution_count": 16,
   "metadata": {},
   "outputs": [
    {
     "data": {
      "text/plain": [
       "array([[18, 11,  1, 13, 15],\n",
       "       [10, 15,  1, 14,  8],\n",
       "       [14, 16,  1, 13,  5],\n",
       "       [10, 14,  1, 16,  5],\n",
       "       [ 2, 15,  1, 14, 18]])"
      ]
     },
     "execution_count": 16,
     "metadata": {},
     "output_type": "execute_result"
    }
   ],
   "source": [
    "import random\n",
    "arr = np.array([random.randint(1,20) for _ in range(1,26)]).reshape(5,5)\n",
    "arr[:,2:3] = 1\n",
    "arr"
   ]
  },
  {
   "cell_type": "markdown",
   "id": "521622a7",
   "metadata": {},
   "source": [
    "#### 2. Create a NumPy array of shape (4, 4) with values from 1 to 16. Replace the diagonal elements with 0."
   ]
  },
  {
   "cell_type": "code",
   "execution_count": 21,
   "id": "054185e1",
   "metadata": {},
   "outputs": [
    {
     "data": {
      "text/plain": [
       "array([[ 0,  2,  3,  4],\n",
       "       [ 5,  0,  7,  8],\n",
       "       [ 9, 10,  0, 12],\n",
       "       [13, 14, 15,  0]])"
      ]
     },
     "execution_count": 21,
     "metadata": {},
     "output_type": "execute_result"
    }
   ],
   "source": [
    "arr = np.arange(1,17,1).reshape(4,4)\n",
    "np.fill_diagonal(arr,0)\n",
    "arr"
   ]
  },
  {
   "cell_type": "markdown",
   "id": "4ec29427",
   "metadata": {},
   "source": [
    "### Assignment 2: Array Indexing and Slicing"
   ]
  },
  {
   "cell_type": "markdown",
   "id": "f2ce5409",
   "metadata": {},
   "source": [
    "#### 1. Create a NumPy array of shape (6, 6) with values from 1 to 36. Extract the sub-array consisting of the 3rd to 5th rows and 2nd to 4th columns."
   ]
  },
  {
   "cell_type": "code",
   "execution_count": 27,
   "id": "09b83ba1",
   "metadata": {},
   "outputs": [
    {
     "name": "stdout",
     "output_type": "stream",
     "text": [
      "[[ 1  2  3  4  5  6]\n",
      " [ 7  8  9 10 11 12]\n",
      " [13 14 15 16 17 18]\n",
      " [19 20 21 22 23 24]\n",
      " [25 26 27 28 29 30]\n",
      " [31 32 33 34 35 36]]\n",
      "[[14 15 16]\n",
      " [20 21 22]\n",
      " [26 27 28]]\n"
     ]
    }
   ],
   "source": [
    "arr = np.arange(1,37,1).reshape(6,6)\n",
    "print(arr)\n",
    "print(arr[2:5,1:4])"
   ]
  },
  {
   "cell_type": "markdown",
   "id": "a2656a36",
   "metadata": {},
   "source": [
    "#### 2. Create a NumPy array of shape (5, 5) with random integers. Extract the elements on the border."
   ]
  },
  {
   "cell_type": "code",
   "execution_count": 36,
   "id": "3641abd6",
   "metadata": {},
   "outputs": [
    {
     "name": "stdout",
     "output_type": "stream",
     "text": [
      "[[13 10  9  2 12]\n",
      " [14 23 16 20  3]\n",
      " [21  8 15  2 17]\n",
      " [21 22 17 17 13]\n",
      " [19 22  4 21  1]]\n",
      "upper\n",
      "[[13 10  9  2 12]]\n",
      "right\n",
      "[[12]\n",
      " [ 3]\n",
      " [17]\n",
      " [13]\n",
      " [ 1]]\n",
      "lower\n",
      "[[19 22  4 21  1]]\n",
      "left\n",
      "[[13]\n",
      " [14]\n",
      " [21]\n",
      " [21]\n",
      " [19]]\n"
     ]
    }
   ],
   "source": [
    "nums = np.array([random.randint(1,25) for _ in range(1,26)]).reshape(5,5)\n",
    "print(nums)\n",
    "print(\"upper\")\n",
    "print(nums[0:1,:])\n",
    "print(\"right\")\n",
    "print(nums[:,4:])\n",
    "print(\"lower\")\n",
    "print(nums[4:,:])\n",
    "print(\"left\")\n",
    "print(nums[:,0:1])"
   ]
  },
  {
   "cell_type": "markdown",
   "id": "193f36f1",
   "metadata": {},
   "source": [
    "### Assignment 3: Array Operations"
   ]
  },
  {
   "cell_type": "markdown",
   "id": "837b994c",
   "metadata": {},
   "source": [
    "#### 1. Create two NumPy arrays of shape (3, 4) filled with random integers. Perform element-wise addition, subtraction, multiplication, and division."
   ]
  },
  {
   "cell_type": "code",
   "execution_count": 63,
   "id": "efb13073",
   "metadata": {},
   "outputs": [
    {
     "name": "stdout",
     "output_type": "stream",
     "text": [
      "[[14 14 17 17]\n",
      " [10  8 10 15]\n",
      " [ 9 13 12 11]]\n",
      "\n",
      "[[ 8 -4  1  5]\n",
      " [ 6 -6  6 -5]\n",
      " [-3  1  2  7]]\n",
      "\n",
      "[[33 45 72 66]\n",
      " [16  7 16 50]\n",
      " [18 42 35 18]]\n",
      "\n",
      "[[3.66666667 0.55555556 1.125      1.83333333]\n",
      " [4.         0.14285714 4.         0.5       ]\n",
      " [0.5        1.16666667 1.4        4.5       ]]\n"
     ]
    }
   ],
   "source": [
    "arr1 = np.random.randint(1,13,size = (3,4))\n",
    "arr2 = np.random.randint(1,13, size = (3,4))\n",
    "print(arr1+arr2)\n",
    "print()\n",
    "print(arr1-arr2)\n",
    "print()\n",
    "print(arr1*arr2)\n",
    "print()\n",
    "print(arr1/arr2)"
   ]
  },
  {
   "cell_type": "markdown",
   "id": "23f865a9",
   "metadata": {},
   "source": [
    "#### 2. Create a NumPy array of shape (4, 4) with values from 1 to 16. Compute the row-wise and column-wise sum."
   ]
  },
  {
   "cell_type": "code",
   "execution_count": 68,
   "id": "6c0c54eb",
   "metadata": {},
   "outputs": [
    {
     "name": "stdout",
     "output_type": "stream",
     "text": [
      "[24 17 23 33]\n",
      "[17 31 17 32]\n"
     ]
    }
   ],
   "source": [
    "arr = np.random.randint(1,17,size=(4,4))\n",
    "row_sum = np.sum(arr, axis = 1)\n",
    "col_sum = np.sum(arr,axis = 0)\n",
    "print(row_sum)\n",
    "print(col_sum)"
   ]
  },
  {
   "cell_type": "markdown",
   "id": "7f499682",
   "metadata": {},
   "source": [
    "### Assignment 4: Statistical Operations"
   ]
  },
  {
   "cell_type": "markdown",
   "id": "634c92ec",
   "metadata": {},
   "source": [
    "#### 1. Create a NumPy array of shape (5, 5) filled with random integers. Compute the mean, median, standard deviation, and variance of the array."
   ]
  },
  {
   "cell_type": "code",
   "execution_count": 78,
   "id": "5344d843",
   "metadata": {},
   "outputs": [
    {
     "name": "stdout",
     "output_type": "stream",
     "text": [
      "12.96\n",
      "12.0\n",
      "6.095769024495596\n",
      "37.1584\n"
     ]
    }
   ],
   "source": [
    "array = np.array([random.randint(1,25) for _ in range(0,25)]).reshape(5,5)\n",
    "print(np.mean(array))\n",
    "print(np.median(array))\n",
    "print(np.std(array))\n",
    "print(np.var(array))"
   ]
  },
  {
   "cell_type": "markdown",
   "id": "eb1293bf",
   "metadata": {},
   "source": [
    "#### 2. Create a NumPy array of shape (3, 3) with values from 1 to 9. Normalize the array (i.e., scale the values to have a mean of 0 and a standard deviation of 1)."
   ]
  },
  {
   "cell_type": "code",
   "execution_count": 79,
   "id": "ba7928b8",
   "metadata": {},
   "outputs": [
    {
     "name": "stdout",
     "output_type": "stream",
     "text": [
      "[[-1.54919334 -1.161895   -0.77459667]\n",
      " [-0.38729833  0.          0.38729833]\n",
      " [ 0.77459667  1.161895    1.54919334]]\n"
     ]
    }
   ],
   "source": [
    "data = np.arange(1,10,1).reshape(3,3)\n",
    "normalized_data = (data-np.mean(data))/np.std(data)\n",
    "print(normalized_data)"
   ]
  },
  {
   "cell_type": "markdown",
   "id": "9f3f0048",
   "metadata": {},
   "source": [
    "### Assignment 5: Broadcasting"
   ]
  },
  {
   "cell_type": "markdown",
   "id": "c8a681f7",
   "metadata": {},
   "source": [
    "#### 1. Create a NumPy array of shape (3, 3) filled with random integers. Add a 1D array of shape (3,) to each row of the 2D array using broadcasting."
   ]
  },
  {
   "cell_type": "code",
   "execution_count": 3,
   "id": "a00d39ee",
   "metadata": {},
   "outputs": [
    {
     "name": "stdout",
     "output_type": "stream",
     "text": [
      "[[8 5 6]\n",
      " [4 6 3]\n",
      " [3 3 7]]\n",
      "\n",
      "[[ 9  7  9]\n",
      " [ 5  8  6]\n",
      " [ 4  5 10]]\n"
     ]
    },
    {
     "ename": "",
     "evalue": "",
     "output_type": "error",
     "traceback": [
      "\u001b[1;31mThe Kernel crashed while executing code in the current cell or a previous cell. \n",
      "\u001b[1;31mPlease review the code in the cell(s) to identify a possible cause of the failure. \n",
      "\u001b[1;31mClick <a href='https://aka.ms/vscodeJupyterKernelCrash'>here</a> for more info. \n",
      "\u001b[1;31mView Jupyter <a href='command:jupyter.viewOutput'>log</a> for further details."
     ]
    }
   ],
   "source": [
    "arr = np.random.randint(1,10,size=(3,3))\n",
    "arr2 = np.array([1,2,3])\n",
    "print(arr)\n",
    "print()\n",
    "print(arr2+arr)"
   ]
  },
  {
   "cell_type": "markdown",
   "id": "8a078c07",
   "metadata": {},
   "source": [
    "#### 2. Create a NumPy array of shape (4, 4) filled with random integers. Subtract a 1D array of shape (4,) from each column of the 2D array using broadcasting."
   ]
  },
  {
   "cell_type": "code",
   "execution_count": 19,
   "id": "86d2d503",
   "metadata": {},
   "outputs": [
    {
     "name": "stdout",
     "output_type": "stream",
     "text": [
      "Array1 [[ 1  3  1  1]\n",
      " [ 4  5  4 10]\n",
      " [ 2  1  2  9]\n",
      " [ 5  7  9 10]]\n",
      "Array2 [16  3 19  5]\n",
      "[[-15 -13 -15 -15]\n",
      " [  1   2   1   7]\n",
      " [-17 -18 -17 -10]\n",
      " [  0   2   4   5]]\n"
     ]
    }
   ],
   "source": [
    "arr1 = np.array([random.randint(1,10) for _ in range(16)]).reshape(4,4)\n",
    "print(\"Array1\",arr1)\n",
    "arr2 = np.array([random.randint(1,20) for _ in range(4)])\n",
    "print(\"Array2\",arr2)\n",
    "result = arr1-arr2[:,np.newaxis]\n",
    "print(result)"
   ]
  },
  {
   "cell_type": "markdown",
   "id": "5dc5cc96",
   "metadata": {},
   "source": [
    "### Assignment 6: Linear Algebra"
   ]
  },
  {
   "cell_type": "markdown",
   "id": "7360f8ad",
   "metadata": {},
   "source": [
    "#### 1. Create a NumPy array of shape (3, 3) representing a matrix. Compute its determinant, inverse, and eigenvalues."
   ]
  },
  {
   "cell_type": "code",
   "execution_count": 26,
   "id": "c8405334",
   "metadata": {},
   "outputs": [
    {
     "name": "stdout",
     "output_type": "stream",
     "text": [
      "389.99999999999966 \n",
      " [[ 0.02564103  0.14102564 -0.1025641 ]\n",
      " [-0.09230769 -0.00769231  0.16923077]\n",
      " [ 0.17435897 -0.04102564 -0.0974359 ]] \n",
      " [17.13695401+0.j         -1.56847701+4.50529872j -1.56847701-4.50529872j]\n"
     ]
    }
   ],
   "source": [
    "A = np.array([random.randint(1,10) for _ in range(1,10)]).reshape(3,3)\n",
    "# print(A)\n",
    "determinant = np.linalg.det(A)\n",
    "inverse = np.linalg.inv(A)\n",
    "eigenvalues = np.linalg.eigvals(A)\n",
    "print(determinant,'\\n', inverse,'\\n', eigenvalues)"
   ]
  },
  {
   "cell_type": "markdown",
   "id": "a8b08c72",
   "metadata": {},
   "source": [
    "#### 2. Create two NumPy arrays of shape (2, 3) and (3, 2). Perform matrix multiplication on these arrays."
   ]
  },
  {
   "cell_type": "code",
   "execution_count": 28,
   "id": "a203abe0",
   "metadata": {},
   "outputs": [
    {
     "name": "stdout",
     "output_type": "stream",
     "text": [
      "[[ 80 136  24]\n",
      " [ 20  57   8]\n",
      " [ 62  87  17]]\n"
     ]
    }
   ],
   "source": [
    "arr1 = np.random.randint(1,10, size=(3,2))\n",
    "arr2 = np.random.randint(1,10, size=(2,3))\n",
    "result = np.dot(arr1,arr2)\n",
    "print(result)"
   ]
  },
  {
   "cell_type": "markdown",
   "id": "d3773139",
   "metadata": {},
   "source": [
    "### Assignment 7 : Advanced Array Manipulation"
   ]
  },
  {
   "cell_type": "markdown",
   "id": "59f61658",
   "metadata": {},
   "source": [
    "#### 1. Create a NumPy array of shape (3, 3) with values from 1 to 9. Reshape the array to shape (1, 9) and then to shape (9, 1)."
   ]
  },
  {
   "cell_type": "code",
   "execution_count": 3,
   "id": "42137271",
   "metadata": {},
   "outputs": [
    {
     "name": "stdout",
     "output_type": "stream",
     "text": [
      "Original Array : \n",
      "[[1 2 3]\n",
      " [4 5 6]\n",
      " [7 8 9]]\n",
      "Flattened array : \n",
      "[[1 2 3 4 5 6 7 8 9]]\n",
      "Reshaped Array : \n",
      "[[1]\n",
      " [2]\n",
      " [3]\n",
      " [4]\n",
      " [5]\n",
      " [6]\n",
      " [7]\n",
      " [8]\n",
      " [9]]\n"
     ]
    }
   ],
   "source": [
    "arr = np.array([i for i in range(1,10)]).reshape(3,3)\n",
    "print(\"Original Array : \")\n",
    "print(arr)\n",
    "print(\"Flattened array : \")\n",
    "print(arr.reshape(1,9))\n",
    "print(\"Reshaped Array : \")\n",
    "print(arr.reshape(9,1))"
   ]
  },
  {
   "cell_type": "markdown",
   "id": "424aeaf7",
   "metadata": {},
   "source": [
    "#### 2. Create a NumPy array of shape (5, 5) filled with random integers. Flatten the array and then reshape it back to (5, 5)."
   ]
  },
  {
   "cell_type": "code",
   "execution_count": 7,
   "id": "62f06db7",
   "metadata": {},
   "outputs": [
    {
     "name": "stdout",
     "output_type": "stream",
     "text": [
      "Original Array : \n",
      "[[ 6  1 20  3  4]\n",
      " [24  8 18  4  9]\n",
      " [13 16 17 19 15]\n",
      " [ 4  2 20 23  1]\n",
      " [ 9  4  3 21 19]]\n",
      "Falttend array\n",
      "[ 6  1 20  3  4 24  8 18  4  9 13 16 17 19 15  4  2 20 23  1  9  4  3 21\n",
      " 19]\n",
      "[[ 6  1 20  3  4]\n",
      " [24  8 18  4  9]\n",
      " [13 16 17 19 15]\n",
      " [ 4  2 20 23  1]\n",
      " [ 9  4  3 21 19]]\n"
     ]
    }
   ],
   "source": [
    "arr = np.random.randint(1,25,size=(5,5))\n",
    "print(\"Original Array : \")\n",
    "print(arr)\n",
    "flattened_array = arr.flatten()\n",
    "print(\"Falttend array\")\n",
    "print(flattened_array)\n",
    "print(flattened_array.reshape(5,5))\n"
   ]
  },
  {
   "cell_type": "markdown",
   "id": "b7006293",
   "metadata": {},
   "source": [
    "### Assignment 8: Fancy Indexing and Boolean Indexing"
   ]
  },
  {
   "cell_type": "markdown",
   "id": "030d4271",
   "metadata": {},
   "source": [
    "#### 1. Create a NumPy array of shape (5, 5) filled with random integers. Use fancy indexing to extract the elements at the corners of the array."
   ]
  },
  {
   "cell_type": "code",
   "execution_count": 14,
   "id": "20f02458",
   "metadata": {},
   "outputs": [
    {
     "name": "stdout",
     "output_type": "stream",
     "text": [
      "[[ 8  7 18  6 13]\n",
      " [ 5 10  8 23 22]\n",
      " [ 5 14  2  5 21]\n",
      " [11  5 11 21  4]\n",
      " [24 10 23  3  2]]\n",
      "[ 8 13 24  2]\n"
     ]
    }
   ],
   "source": [
    "arr = np.random.randint(1,25,size=(5,5))\n",
    "indices = [0,0,-1,-1],[0,-1,0,-1]\n",
    "print(arr)\n",
    "print(arr[([0,0,-1,-1],[0,-1,0,-1])])"
   ]
  },
  {
   "cell_type": "markdown",
   "id": "fbfef16b",
   "metadata": {},
   "source": [
    "#### 2. Create a NumPy array of shape (4, 4) filled with random integers. Use boolean indexing to set all elements greater than 10 to 10."
   ]
  },
  {
   "cell_type": "code",
   "execution_count": 16,
   "id": "54753491",
   "metadata": {},
   "outputs": [
    {
     "name": "stdout",
     "output_type": "stream",
     "text": [
      "Original Array\n",
      "[[14  6  4  2]\n",
      " [ 2  5  9  8]\n",
      " [ 1  2  8 11]\n",
      " [ 2  5 10  6]]\n",
      "Modified array : \n",
      "[[10  6  4  2]\n",
      " [ 2  5  9  8]\n",
      " [ 1  2  8 10]\n",
      " [ 2  5 10  6]]\n"
     ]
    }
   ],
   "source": [
    "arr = np.random.randint(1,16,size=(4,4))\n",
    "print(\"Original Array\")\n",
    "print(arr)\n",
    "arr[arr>10] = 10\n",
    "print(\"Modified array : \")\n",
    "print(arr)"
   ]
  },
  {
   "cell_type": "markdown",
   "id": "79bdf888",
   "metadata": {},
   "source": [
    "### Assignment 9: Structured Arrays"
   ]
  },
  {
   "cell_type": "markdown",
   "id": "1862c0ef",
   "metadata": {},
   "source": [
    "#### 1. Create a structured array with fields 'name' (string), 'age' (integer), and 'weight' (float). Add some data and sort the array by age."
   ]
  },
  {
   "cell_type": "code",
   "execution_count": 19,
   "id": "d1b2f608",
   "metadata": {},
   "outputs": [
    {
     "name": "stdout",
     "output_type": "stream",
     "text": [
      "[('Thomas Shelby', 25, 69.8) ('Freddie Thorne', 26, 72.8)\n",
      " ('Danny Whiz-Bang', 30, 81.5)]\n"
     ]
    }
   ],
   "source": [
    "data_type = [(\"name\",\"U20\"),(\"age\",\"i8\"),(\"weight\",\"f8\")]\n",
    "data = np.array([(\"Danny Whiz-Bang\",30,81.5),(\"Freddie Thorne\",26,72.8),(\"Thomas Shelby\",25,69.8)],dtype=data_type)\n",
    "sorted_data = np.sort(data, order=\"age\")\n",
    "print(sorted_data)"
   ]
  },
  {
   "cell_type": "markdown",
   "id": "7ba13735",
   "metadata": {},
   "source": [
    "#### 2. Create a structured array with fields 'x' and 'y' (both integers). Add some data and compute the Euclidean distance between each pair of points."
   ]
  },
  {
   "cell_type": "code",
   "execution_count": 21,
   "id": "a37bb40c",
   "metadata": {},
   "outputs": [
    {
     "name": "stdout",
     "output_type": "stream",
     "text": [
      "[[0.        2.236068  3.1622777]\n",
      " [2.236068  0.        2.236068 ]\n",
      " [3.1622777 2.236068  0.       ]]\n"
     ]
    }
   ],
   "source": [
    "data_type = [(\"x\",\"i2\"),(\"y\",\"i2\")]\n",
    "data = np.array([(2,5),(4,6),(3,8)],dtype=data_type)\n",
    "euclidean_distance = np.sqrt((data['x']-data['x'][:,np.newaxis])**2 + (data['y'][:,np.newaxis]-data['y'])**2)\n",
    "print(euclidean_distance)"
   ]
  },
  {
   "cell_type": "markdown",
   "id": "e853cb2d",
   "metadata": {},
   "source": [
    "### Assignment 10: Masked Arrays\n"
   ]
  },
  {
   "cell_type": "markdown",
   "id": "dbb08da8",
   "metadata": {},
   "source": [
    "#### 1. Create a masked array of shape (4, 4) with random integers and mask the elements greater than 10. Compute the sum of the unmasked elements."
   ]
  },
  {
   "cell_type": "code",
   "execution_count": 22,
   "id": "3302f626",
   "metadata": {},
   "outputs": [
    {
     "name": "stdout",
     "output_type": "stream",
     "text": [
      "arr : \n",
      "[[11  7  1 14]\n",
      " [ 8  8  3  5]\n",
      " [12  9 10  2]\n",
      " [ 6  9  6  3]]\n",
      "arr_masked : \n",
      "[[-- 7 1 --]\n",
      " [8 8 3 5]\n",
      " [-- 9 10 2]\n",
      " [6 9 6 3]]\n",
      "77\n"
     ]
    }
   ],
   "source": [
    "import numpy.ma as ma\n",
    "arr = np.random.randint(1,16,size=(4,4))\n",
    "print(\"arr : \")\n",
    "print(arr)\n",
    "arr_masked = ma.masked_greater(arr,10)\n",
    "print(\"arr_masked : \")\n",
    "print(arr_masked)\n",
    "sum_masked = arr_masked.sum()\n",
    "print(sum_masked)\n"
   ]
  },
  {
   "cell_type": "markdown",
   "id": "6117544b",
   "metadata": {},
   "source": [
    "#### 2. Create a masked array of shape (3, 3) with random integers and mask the diagonal elements. Replace the masked elements with the mean of the unmasked elements."
   ]
  },
  {
   "cell_type": "code",
   "execution_count": 26,
   "id": "5a319659",
   "metadata": {},
   "outputs": [
    {
     "name": "stdout",
     "output_type": "stream",
     "text": [
      "Original array : \n",
      "[[8 1 1]\n",
      " [1 9 3]\n",
      " [4 1 8]]\n",
      "Masked Array : \n",
      "[[-- 1 1]\n",
      " [1 -- 3]\n",
      " [4 1 --]]\n",
      "Updated Masked Array : \n",
      "[[1 1 1]\n",
      " [1 1 3]\n",
      " [4 1 1]]\n"
     ]
    }
   ],
   "source": [
    "arr = np.random.randint(1,10,size=(3,3))\n",
    "print(\"Original array : \")\n",
    "print(arr)\n",
    "masked_arr = ma.masked_array(arr, np.eye(3,dtype=bool))\n",
    "print(\"Masked Array : \")\n",
    "print(masked_arr)\n",
    "\n",
    "unmasked_mean = masked_arr.mean()\n",
    "updated_masked = masked_arr.filled(unmasked_mean)\n",
    "print(\"Updated Masked Array : \")\n",
    "print(updated_masked)"
   ]
  }
 ],
 "metadata": {
  "kernelspec": {
   "display_name": "Python 3",
   "language": "python",
   "name": "python3"
  },
  "language_info": {
   "codemirror_mode": {
    "name": "ipython",
    "version": 3
   },
   "file_extension": ".py",
   "mimetype": "text/x-python",
   "name": "python",
   "nbconvert_exporter": "python",
   "pygments_lexer": "ipython3",
   "version": "3.12.5"
  }
 },
 "nbformat": 4,
 "nbformat_minor": 5
}

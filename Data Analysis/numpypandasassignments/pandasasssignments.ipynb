{
 "cells": [
  {
   "cell_type": "markdown",
   "metadata": {},
   "source": [
    "# Module: Pandas Assignments\n",
    "## Lesson: Pandas\n",
    "### Assignment 1: DataFrame Creation and Indexing\n",
    "\n",
    "1. Create a Pandas DataFrame with 4 columns and 6 rows filled with random integers. Set the index to be the first column.\n",
    "2. Create a Pandas DataFrame with columns 'A', 'B', 'C' and index 'X', 'Y', 'Z'. Fill the DataFrame with random integers and access the element at row 'Y' and column 'B'.\n",
    "\n",
    "### Assignment 2: DataFrame Operations\n",
    "\n",
    "1. Create a Pandas DataFrame with 3 columns and 5 rows filled with random integers. Add a new column that is the product of the first two columns.\n",
    "2. Create a Pandas DataFrame with 3 columns and 4 rows filled with random integers. Compute the row-wise and column-wise sum.\n",
    "\n",
    "### Assignment 3: Data Cleaning\n",
    "\n",
    "1. Create a Pandas DataFrame with 3 columns and 5 rows filled with random integers. Introduce some NaN values. Fill the NaN values with the mean of the respective columns.\n",
    "2. Create a Pandas DataFrame with 4 columns and 6 rows filled with random integers. Introduce some NaN values. Drop the rows with any NaN values.\n",
    "\n",
    "### Assignment 4: Data Aggregation\n",
    "\n",
    "1. Create a Pandas DataFrame with 2 columns: 'Category' and 'Value'. Fill the 'Category' column with random categories ('A', 'B', 'C') and the 'Value' column with random integers. Group the DataFrame by 'Category' and compute the sum and mean of 'Value' for each category.\n",
    "2. Create a Pandas DataFrame with 3 columns: 'Product', 'Category', and 'Sales'. Fill the DataFrame with random data. Group the DataFrame by 'Category' and compute the total sales for each category.\n",
    "\n",
    "### Assignment 5: Merging DataFrames\n",
    "\n",
    "1. Create two Pandas DataFrames with a common column. Merge the DataFrames using the common column.\n",
    "2. Create two Pandas DataFrames with different columns. Concatenate the DataFrames along the rows and along the columns.\n",
    "\n",
    "### Assignment 6: Time Series Analysis\n",
    "\n",
    "1. Create a Pandas DataFrame with a datetime index and one column filled with random integers. Resample the DataFrame to compute the monthly mean of the values.\n",
    "2. Create a Pandas DataFrame with a datetime index ranging from '2021-01-01' to '2021-12-31' and one column filled with random integers. Compute the rolling mean with a window of 7 days.\n",
    "\n",
    "### Assignment 7: MultiIndex DataFrame\n",
    "\n",
    "1. Create a Pandas DataFrame with a MultiIndex (hierarchical index). Perform some basic indexing and slicing operations on the MultiIndex DataFrame.\n",
    "2. Create a Pandas DataFrame with MultiIndex consisting of 'Category' and 'SubCategory'. Fill the DataFrame with random data and compute the sum of values for each 'Category' and 'SubCategory'.\n",
    "\n",
    "### Assignment 8: Pivot Tables\n",
    "\n",
    "1. Create a Pandas DataFrame with columns 'Date', 'Category', and 'Value'. Create a pivot table to compute the sum of 'Value' for each 'Category' by 'Date'.\n",
    "2. Create a Pandas DataFrame with columns 'Year', 'Quarter', and 'Revenue'. Create a pivot table to compute the mean 'Revenue' for each 'Quarter' by 'Year'.\n",
    "\n",
    "### Assignment 9: Applying Functions\n",
    "\n",
    "1. Create a Pandas DataFrame with 3 columns and 5 rows filled with random integers. Apply a function that doubles the values of the DataFrame.\n",
    "2. Create a Pandas DataFrame with 3 columns and 6 rows filled with random integers. Apply a lambda function to create a new column that is the sum of the existing columns.\n",
    "\n",
    "### Assignment 10: Working with Text Data\n",
    "\n",
    "1. Create a Pandas Series with 5 random text strings. Convert all the strings to uppercase.\n",
    "2. Create a Pandas Series with 5 random text strings. Extract the first three characters of each string.\n"
   ]
  },
  {
   "cell_type": "code",
   "execution_count": 2,
   "id": "174e59c9",
   "metadata": {},
   "outputs": [],
   "source": [
    "import numpy as np\n",
    "import pandas as pd\n",
    "import matplotlib.pyplot as plt\n",
    "import seaborn as sns\n",
    "import random"
   ]
  },
  {
   "cell_type": "markdown",
   "id": "fb287a74",
   "metadata": {},
   "source": [
    "### Assignment 1: DataFrame Creation and Indexing"
   ]
  },
  {
   "cell_type": "markdown",
   "id": "9d1ae9ec",
   "metadata": {},
   "source": [
    "#### 1. Create a Pandas DataFrame with 4 columns and 6 rows filled with random integers. Set the index to be the first column."
   ]
  },
  {
   "cell_type": "code",
   "execution_count": 5,
   "metadata": {},
   "outputs": [
    {
     "name": "stdout",
     "output_type": "stream",
     "text": [
      "Original DataFrame : \n",
      "    A   B   C   D\n",
      "0  12  46  44  19\n",
      "1  26   2  27  35\n",
      "2  20  21  27   6\n",
      "3   6  14   1  32\n",
      "4  37  39  46  27\n",
      "5  28  41  12  24\n",
      "Modified DataFrame : \n",
      "     B   C   D\n",
      "A             \n",
      "12  46  44  19\n",
      "26   2  27  35\n",
      "20  21  27   6\n",
      "6   14   1  32\n",
      "37  39  46  27\n",
      "28  41  12  24\n"
     ]
    }
   ],
   "source": [
    "df = pd.DataFrame(np.random.randint(1,50 , size=(6,4)),columns=['A','B','C','D'])\n",
    "print(\"Original DataFrame : \")\n",
    "print(df)\n",
    "\n",
    "df.set_index('A',inplace=True)\n",
    "print(\"Modified DataFrame : \")\n",
    "print(df)\n"
   ]
  },
  {
   "cell_type": "markdown",
   "id": "b1722d35",
   "metadata": {},
   "source": [
    "#### 2. Create a Pandas DataFrame with columns 'A', 'B', 'C' and index 'X', 'Y', 'Z'. Fill the DataFrame with random integers and access the element at row 'Y' and column 'B'."
   ]
  },
  {
   "cell_type": "code",
   "execution_count": 10,
   "id": "17ff26ed",
   "metadata": {},
   "outputs": [
    {
     "name": "stdout",
     "output_type": "stream",
     "text": [
      "   A  B  C\n",
      "X  3  7  7\n",
      "Y  4  3  3\n",
      "Z  7  2  3\n",
      "3\n"
     ]
    }
   ],
   "source": [
    "df = pd.DataFrame(np.random.randint(1,9,size=(3,3)),columns=['A','B','C'], index=['X','Y','Z'])\n",
    "print(df)\n",
    "print(df.at['Y','B'])"
   ]
  },
  {
   "cell_type": "markdown",
   "id": "87bc0087",
   "metadata": {},
   "source": [
    "### Assignment 2: DataFrame Operations"
   ]
  },
  {
   "cell_type": "markdown",
   "id": "9c485d01",
   "metadata": {},
   "source": [
    "#### 1. Create a Pandas DataFrame with 3 columns and 5 rows filled with random integers. Add a new column that is the product of the first two columns."
   ]
  },
  {
   "cell_type": "code",
   "execution_count": 11,
   "id": "db2b6cd0",
   "metadata": {},
   "outputs": [
    {
     "data": {
      "text/html": [
       "<div>\n",
       "<style scoped>\n",
       "    .dataframe tbody tr th:only-of-type {\n",
       "        vertical-align: middle;\n",
       "    }\n",
       "\n",
       "    .dataframe tbody tr th {\n",
       "        vertical-align: top;\n",
       "    }\n",
       "\n",
       "    .dataframe thead th {\n",
       "        text-align: right;\n",
       "    }\n",
       "</style>\n",
       "<table border=\"1\" class=\"dataframe\">\n",
       "  <thead>\n",
       "    <tr style=\"text-align: right;\">\n",
       "      <th></th>\n",
       "      <th>0</th>\n",
       "      <th>1</th>\n",
       "      <th>2</th>\n",
       "      <th>Product First Two</th>\n",
       "    </tr>\n",
       "  </thead>\n",
       "  <tbody>\n",
       "    <tr>\n",
       "      <th>0</th>\n",
       "      <td>16</td>\n",
       "      <td>9</td>\n",
       "      <td>6</td>\n",
       "      <td>144</td>\n",
       "    </tr>\n",
       "    <tr>\n",
       "      <th>1</th>\n",
       "      <td>16</td>\n",
       "      <td>12</td>\n",
       "      <td>1</td>\n",
       "      <td>192</td>\n",
       "    </tr>\n",
       "    <tr>\n",
       "      <th>2</th>\n",
       "      <td>5</td>\n",
       "      <td>15</td>\n",
       "      <td>2</td>\n",
       "      <td>75</td>\n",
       "    </tr>\n",
       "    <tr>\n",
       "      <th>3</th>\n",
       "      <td>9</td>\n",
       "      <td>17</td>\n",
       "      <td>4</td>\n",
       "      <td>153</td>\n",
       "    </tr>\n",
       "    <tr>\n",
       "      <th>4</th>\n",
       "      <td>19</td>\n",
       "      <td>1</td>\n",
       "      <td>10</td>\n",
       "      <td>19</td>\n",
       "    </tr>\n",
       "  </tbody>\n",
       "</table>\n",
       "</div>"
      ],
      "text/plain": [
       "    0   1   2  Product First Two\n",
       "0  16   9   6                144\n",
       "1  16  12   1                192\n",
       "2   5  15   2                 75\n",
       "3   9  17   4                153\n",
       "4  19   1  10                 19"
      ]
     },
     "execution_count": 11,
     "metadata": {},
     "output_type": "execute_result"
    }
   ],
   "source": [
    "df = pd.DataFrame(np.random.randint(1,20,size=(5,3)))\n",
    "df[\"Product First Two\"] = df[0]*df[1]\n",
    "df"
   ]
  },
  {
   "cell_type": "markdown",
   "id": "609b7d35",
   "metadata": {},
   "source": [
    "#### 2. Create a Pandas DataFrame with 3 columns and 4 rows filled with random integers. Compute the row-wise and column-wise sum."
   ]
  },
  {
   "cell_type": "code",
   "execution_count": 12,
   "id": "12492d04",
   "metadata": {},
   "outputs": [
    {
     "name": "stdout",
     "output_type": "stream",
     "text": [
      "DataFrame : \n",
      "    0   1   2\n",
      "0  13  10  16\n",
      "1   5   8  14\n",
      "2  14   3   4\n",
      "3  15  18   7\n",
      "Rows Sum : \n",
      "0    39\n",
      "1    27\n",
      "2    21\n",
      "3    40\n",
      "dtype: int64\n",
      "Column Sum : \n",
      "0    47\n",
      "1    39\n",
      "2    41\n",
      "dtype: int64\n"
     ]
    }
   ],
   "source": [
    "df = pd.DataFrame(np.random.randint(1,20,size=(4,3)))\n",
    "row_sum = df.sum(axis=1)\n",
    "col_sum = df.sum(axis = 0)\n",
    "print(\"DataFrame : \")\n",
    "print(df)\n",
    "print(\"Rows Sum : \")\n",
    "print(row_sum)\n",
    "print(\"Column Sum : \")\n",
    "print(col_sum)"
   ]
  },
  {
   "cell_type": "markdown",
   "id": "bf976667",
   "metadata": {},
   "source": [
    "### Assignment 3: Data Cleaning"
   ]
  },
  {
   "cell_type": "markdown",
   "id": "aba65be7",
   "metadata": {},
   "source": [
    "#### 1. Create a Pandas DataFrame with 3 columns and 5 rows filled with random integers. Introduce some NaN values. Fill the NaN values with the mean of the respective columns."
   ]
  },
  {
   "cell_type": "code",
   "execution_count": 26,
   "id": "bb72b5da",
   "metadata": {},
   "outputs": [
    {
     "name": "stdout",
     "output_type": "stream",
     "text": [
      "Original DataFrame : \n",
      "    A   B   C\n",
      "0  14   9  16\n",
      "1  17   2   7\n",
      "2   2   4  16\n",
      "3   5   3   9\n",
      "4  14  18  19\n",
      "DF with nan values : \n",
      "      A     B     C\n",
      "0  14.0   9.0   NaN\n",
      "1  17.0   NaN   7.0\n",
      "2   NaN   4.0  16.0\n",
      "3   5.0   3.0   9.0\n",
      "4  14.0  18.0   NaN\n",
      "Modified DF : \n",
      "      A     B          C\n",
      "0  14.0   9.0  10.666667\n",
      "1  17.0   8.5   7.000000\n",
      "2  12.5   4.0  16.000000\n",
      "3   5.0   3.0   9.000000\n",
      "4  14.0  18.0  10.666667\n"
     ]
    }
   ],
   "source": [
    "df = pd.DataFrame(np.random.randint(1,20,size=(5,3)), columns = ['A','B','C'])\n",
    "print(\"Original DataFrame : \")\n",
    "print(df)\n",
    "df.iat[0,2] = np.nan\n",
    "df.iat[1,1] = np.nan\n",
    "df.iat[2,0] = np.nan\n",
    "df.iat[4,2] = np.nan\n",
    "print(\"DF with nan values : \")\n",
    "print(df)\n",
    "df.fillna(df.mean(), inplace = True)\n",
    "print(\"Modified DF : \")\n",
    "print(df)"
   ]
  },
  {
   "cell_type": "markdown",
   "id": "2ef5da7e",
   "metadata": {},
   "source": [
    "#### 2. Create a Pandas DataFrame with 4 columns and 6 rows filled with random integers. Introduce some NaN values. Drop the rows with any NaN values."
   ]
  },
  {
   "cell_type": "code",
   "execution_count": null,
   "id": "b8a4912f",
   "metadata": {},
   "outputs": [
    {
     "name": "stdout",
     "output_type": "stream",
     "text": [
      "Original DF : \n",
      "    A   B   C   D   E   F\n",
      "0  26  74  30  25   4  85\n",
      "1  17  76  56  56  94  26\n",
      "2  76  98  49  66  53  85\n",
      "3  25  85  92   5  68  11\n",
      "DF with NaN values : \n",
      "    A   B   C   D     E     F\n",
      "0  26  74  30  25   4.0   NaN\n",
      "1  17  76  56  56  94.0  26.0\n",
      "2  76  98  49  66   NaN  85.0\n",
      "3  25  85  92   5  68.0  11.0\n",
      "Modified DF : \n",
      "    A   B   C   D\n",
      "0  26  74  30  25\n",
      "1  17  76  56  56\n",
      "2  76  98  49  66\n",
      "3  25  85  92   5\n"
     ]
    }
   ],
   "source": [
    "df = pd.DataFrame(np.random.randint(1,100, size=(4,6)), columns = ['A','B','C','D','E','F'])\n",
    "print(\"Original DF : \")\n",
    "print(df)\n",
    "\n",
    "df.iat[0,5] = np.nan\n",
    "df.iat[2,4] = np.nan\n",
    "print(\"DF with NaN values : \")\n",
    "print(df)\n",
    "\n",
    "df.dropna(inplace=True)\n",
    "print(\"Modified DF : \")\n",
    "print(df)"
   ]
  },
  {
   "cell_type": "markdown",
   "id": "be98a4c2",
   "metadata": {},
   "source": [
    "### Assignment 4: Data Aggregation"
   ]
  },
  {
   "cell_type": "markdown",
   "id": "e2000e8e",
   "metadata": {},
   "source": [
    "#### 1. Create a Pandas DataFrame with 2 columns: 'Category' and 'Value'. Fill the 'Category' column with random categories ('A', 'B', 'C') and the 'Value' column with random integers. Group the DataFrame by 'Category' and compute the sum and mean of 'Value' for each category."
   ]
  },
  {
   "cell_type": "code",
   "execution_count": 15,
   "id": "e881f5a4",
   "metadata": {},
   "outputs": [
    {
     "name": "stdout",
     "output_type": "stream",
     "text": [
      "Categories\n",
      "A    130\n",
      "B    119\n",
      "C    177\n",
      "Name: Values, dtype: int64\n",
      "Categories\n",
      "A    43.333333\n",
      "B    59.500000\n",
      "C    35.400000\n",
      "Name: Values, dtype: float64\n"
     ]
    }
   ],
   "source": [
    "df = pd.DataFrame(\n",
    "    {\n",
    "        \"Categories\" : np.random.choice(['A','B','C'],size = 10),\n",
    "        \"Values\" : np.random.choice([i for i in range(100)],size = 10)\n",
    "    }\n",
    ")\n",
    "grouped_sum = df.groupby('Categories')['Values'].sum()\n",
    "grouped_mean = df.groupby('Categories')['Values'].mean()\n",
    "print(grouped_sum)\n",
    "print(grouped_mean)"
   ]
  },
  {
   "cell_type": "markdown",
   "id": "fbbd53cc",
   "metadata": {},
   "source": [
    "#### 2. Create a Pandas DataFrame with 3 columns: 'Product', 'Category', and 'Sales'. Fill the DataFrame with random data. Group the DataFrame by 'Category' and compute the total sales for each category."
   ]
  },
  {
   "cell_type": "code",
   "execution_count": 25,
   "id": "bdf6d542",
   "metadata": {},
   "outputs": [
    {
     "name": "stdout",
     "output_type": "stream",
     "text": [
      "Original DF : \n",
      "    Product Category  Sales\n",
      "0  Product2        B   7568\n",
      "1  Product1        B   5079\n",
      "2  Product1        A   5780\n",
      "3  Product2        B   6202\n",
      "4  Product1        C   8812\n",
      "Category\n",
      "A     5780\n",
      "B    18849\n",
      "C     8812\n",
      "Name: Sales, dtype: int64\n"
     ]
    }
   ],
   "source": [
    "df = pd.DataFrame(\n",
    "    {\n",
    "        \"Product\" : np.random.choice(['Product1','Product2','Product3'], size = 5),\n",
    "        \"Category\" : np.random.choice(['A','B','C'], size = 5),\n",
    "        \"Sales\" : np.random.choice([i for i in range(5000, 10001)],size = 5),\n",
    "    }\n",
    ")\n",
    "print(\"Original DF : \")\n",
    "print(df)\n",
    "category_sales = df.groupby('Category')['Sales'].sum()\n",
    "print(category_sales)"
   ]
  },
  {
   "cell_type": "markdown",
   "id": "bba7db59",
   "metadata": {},
   "source": [
    "### Assignment 5: Merging DataFrames"
   ]
  },
  {
   "cell_type": "markdown",
   "id": "0fa4d90e",
   "metadata": {},
   "source": [
    "#### 1. Create two Pandas DataFrames with a common column. Merge the DataFrames using the common column."
   ]
  },
  {
   "cell_type": "code",
   "execution_count": null,
   "id": "a2497065",
   "metadata": {},
   "outputs": [
    {
     "name": "stdout",
     "output_type": "stream",
     "text": [
      "     Product Categories  Sales  Values\n",
      "0   Product3          B   5792      93\n",
      "1   Product3          B   5792      21\n",
      "2   Product3          B   5792      66\n",
      "3   Product1          C   5503      60\n",
      "4   Product1          C   5503      88\n",
      "5   Product1          C   5503      78\n",
      "6   Product2          B   9313      93\n",
      "7   Product2          B   9313      21\n",
      "8   Product2          B   9313      66\n",
      "9   Product3          C   5649      60\n",
      "10  Product3          C   5649      88\n",
      "11  Product3          C   5649      78\n",
      "12  Product1          C   5089      60\n",
      "13  Product1          C   5089      88\n",
      "14  Product1          C   5089      78\n"
     ]
    }
   ],
   "source": [
    "df1 = pd.DataFrame(\n",
    "    {\n",
    "        \"Product\" : np.random.choice(['Product1','Product2','Product3'], size = 5),\n",
    "        \"Categories\" : np.random.choice(['A','B','C'], size = 5),\n",
    "        \"Sales\" : np.random.choice([i for i in range(5000, 10001)],size = 5),\n",
    "    }\n",
    ")\n",
    "df2 = pd.DataFrame(\n",
    "    {\n",
    "        \"Categories\" : np.random.choice(['A','B','C'],size = 10),\n",
    "        \"Values\" : np.random.choice([i for i in range(100)],size = 10)\n",
    "    }\n",
    ")\n",
    "merged_df = pd.merge(df1, df2,on='Categories')\n",
    "print(merged_df)"
   ]
  },
  {
   "cell_type": "markdown",
   "id": "eaadc65a",
   "metadata": {},
   "source": [
    "#### 2. Create two Pandas DataFrames with different columns. Concatenate the DataFrames along the rows and along the columns."
   ]
  },
  {
   "cell_type": "code",
   "execution_count": 37,
   "id": "cfe47b68",
   "metadata": {},
   "outputs": [
    {
     "name": "stdout",
     "output_type": "stream",
     "text": [
      "Original DF1 : \n",
      "    A   B\n",
      "0  66  96\n",
      "1   2  66\n",
      "2  75  27\n",
      "Original DF2 : \n",
      "    C   D\n",
      "0  99  57\n",
      "1  34  90\n",
      "2  72  19\n",
      "Concatenation along Rows : \n",
      "      A     B     C     D\n",
      "0  66.0  96.0   NaN   NaN\n",
      "1   2.0  66.0   NaN   NaN\n",
      "2  75.0  27.0   NaN   NaN\n",
      "0   NaN   NaN  99.0  57.0\n",
      "1   NaN   NaN  34.0  90.0\n",
      "2   NaN   NaN  72.0  19.0\n",
      "Concatenation along Columns : \n",
      "    A   B   C   D\n",
      "0  66  96  99  57\n",
      "1   2  66  34  90\n",
      "2  75  27  72  19\n"
     ]
    }
   ],
   "source": [
    "df1 = pd.DataFrame({'A': np.random.randint(1, 100, size=3), 'B': np.random.randint(1, 100, size=3)})\n",
    "df2 = pd.DataFrame({'C': np.random.randint(1, 100, size=3), 'D': np.random.randint(1, 100, size=3)})\n",
    "print(\"Original DF1 : \")\n",
    "print(df1)\n",
    "print(\"Original DF2 : \")\n",
    "print(df2)\n",
    "row_concate = pd.concat([df1,df2],axis=0)\n",
    "print(\"Concatenation along Rows : \")\n",
    "print(row_concate)\n",
    "col_concate = pd.concat([df1,df2],axis=1)\n",
    "print(\"Concatenation along Columns : \")\n",
    "print(col_concate)"
   ]
  },
  {
   "cell_type": "markdown",
   "id": "582b3972",
   "metadata": {},
   "source": [
    "### Assignment 6: Time Series Analysis"
   ]
  },
  {
   "cell_type": "markdown",
   "id": "61b80877",
   "metadata": {},
   "source": [
    "#### 1. Create a Pandas DataFrame with a datetime index and one column filled with random integers. Resample the DataFrame to compute the monthly mean of the values."
   ]
  },
  {
   "cell_type": "code",
   "execution_count": null,
   "id": "1684e73c",
   "metadata": {},
   "outputs": [
    {
     "name": "stdout",
     "output_type": "stream",
     "text": [
      "Original DataFrame : \n",
      "            data\n",
      "date            \n",
      "2005-01-01   385\n",
      "2005-01-02   567\n",
      "2005-01-03    54\n",
      "2005-01-04   382\n",
      "2005-01-05   382\n",
      "...          ...\n",
      "2005-12-27   377\n",
      "2005-12-28    62\n",
      "2005-12-29   178\n",
      "2005-12-30   978\n",
      "2005-12-31   591\n",
      "\n",
      "[365 rows x 1 columns]\n",
      "                  data\n",
      "date                  \n",
      "2005-01-31  464.322581\n",
      "2005-02-28  560.035714\n",
      "2005-03-31  506.000000\n",
      "2005-04-30  555.800000\n",
      "2005-05-31  457.387097\n",
      "2005-06-30  570.300000\n",
      "2005-07-31  441.096774\n",
      "2005-08-31  460.774194\n",
      "2005-09-30  440.766667\n",
      "2005-10-31  532.870968\n",
      "2005-11-30  463.000000\n",
      "2005-12-31  523.612903\n",
      "<class 'pandas.core.frame.DataFrame'>\n"
     ]
    },
    {
     "name": "stderr",
     "output_type": "stream",
     "text": [
      "C:\\Users\\Govind jaiswal\\AppData\\Local\\Temp\\ipykernel_8656\\2050444101.py:8: FutureWarning: 'M' is deprecated and will be removed in a future version, please use 'ME' instead.\n",
      "  monthly_mean = df.resample('M').mean()\n"
     ]
    }
   ],
   "source": [
    "date_range = pd.date_range(start='2005-01-01', end = '2005-12-31', freq='D')\n",
    "df = pd.DataFrame(date_range, columns = ['date'])\n",
    "df.set_index('date', inplace=True)\n",
    "df['data'] = np.random.randint(1,1000, size = (len(date_range)))\n",
    "print(\"Original DataFrame : \")\n",
    "print(df)\n",
    "\n",
    "monthly_mean = df.resample('M').mean()\n",
    "print(monthly_mean)"
   ]
  },
  {
   "cell_type": "markdown",
   "id": "ab060383",
   "metadata": {},
   "source": [
    "#### 2. Create a Pandas DataFrame with a datetime index ranging from '2021-01-01' to '2021-12-31' and one column filled with random integers. Compute the rolling mean with a window of 7 days."
   ]
  },
  {
   "cell_type": "code",
   "execution_count": 50,
   "id": "60575d4c",
   "metadata": {},
   "outputs": [
    {
     "name": "stdout",
     "output_type": "stream",
     "text": [
      "Original DataFrame : \n",
      "            data\n",
      "Date            \n",
      "2021-01-01    25\n",
      "2021-01-02    15\n",
      "2021-01-03    99\n",
      "2021-01-04    73\n",
      "2021-01-05    74\n",
      "...          ...\n",
      "2021-12-27    37\n",
      "2021-12-28    83\n",
      "2021-12-29    71\n",
      "2021-12-30    39\n",
      "2021-12-31    87\n",
      "\n",
      "[365 rows x 1 columns]\n",
      "                 data\n",
      "Date                 \n",
      "2021-01-01        NaN\n",
      "2021-01-02        NaN\n",
      "2021-01-03        NaN\n",
      "2021-01-04        NaN\n",
      "2021-01-05        NaN\n",
      "...               ...\n",
      "2021-12-27  60.000000\n",
      "2021-12-28  59.857143\n",
      "2021-12-29  59.714286\n",
      "2021-12-30  52.142857\n",
      "2021-12-31  59.428571\n",
      "\n",
      "[365 rows x 1 columns]\n"
     ]
    }
   ],
   "source": [
    "date_range = pd.date_range(start = '2021-01-01',end = '2021-12-31',freq='D')\n",
    "df = pd.DataFrame(date_range, columns=['Date'])\n",
    "df.set_index('Date',inplace=True)\n",
    "df['data'] = np.random.randint(1,100, size=(len(date_range)))\n",
    "print(\"Original DataFrame : \")\n",
    "print(df)\n",
    "\n",
    "rolling_mean = df.rolling(window=7).mean()\n",
    "print(rolling_mean)"
   ]
  },
  {
   "cell_type": "markdown",
   "id": "554b8ade",
   "metadata": {},
   "source": [
    "### Assignment 7: MultiIndex DataFrame"
   ]
  },
  {
   "cell_type": "markdown",
   "id": "e30aeea5",
   "metadata": {},
   "source": [
    "#### 1. Create a Pandas DataFrame with a MultiIndex (hierarchical index). Perform some basic indexing and slicing operations on the MultiIndex DataFrame."
   ]
  },
  {
   "cell_type": "code",
   "execution_count": 65,
   "id": "8d92cfc4",
   "metadata": {},
   "outputs": [
    {
     "name": "stdout",
     "output_type": "stream",
     "text": [
      "                          Value1  Value2  Value3\n",
      "Categories Subcategories                        \n",
      "A          one                26      38      38\n",
      "           two                 4      15      46\n",
      "B          one                23      30      25\n",
      "           two                21      30       5\n",
      "C          one                44      33      38\n",
      "           two                14       6      30\n",
      "Indexing at A\n",
      "               Value1  Value2  Value3\n",
      "Subcategories                        \n",
      "one                26      38      38\n",
      "two                 4      15      46\n",
      "Slicing at C\n",
      "Value1    14\n",
      "Value2     6\n",
      "Value3    30\n",
      "Name: (C, two), dtype: int32\n"
     ]
    }
   ],
   "source": [
    "arrays = [['A','A','B','B','C','C'],['one','two','one','two','one','two']]\n",
    "index = pd.MultiIndex.from_arrays(arrays,names=('Categories', 'Subcategories'))\n",
    "df = pd.DataFrame(np.random.randint(1,50, size=(6,3)), index = index, columns=['Value1','Value2','Value3'])\n",
    "print(df)\n",
    "\n",
    "print(\"Indexing at A\")\n",
    "print(df.loc['A'])\n",
    "\n",
    "print(\"Slicing at C\")\n",
    "print(df.loc[('C','two')])"
   ]
  },
  {
   "cell_type": "markdown",
   "id": "ab8706ff",
   "metadata": {},
   "source": [
    "#### 2. Create a Pandas DataFrame with MultiIndex consisting of 'Category' and 'SubCategory'. Fill the DataFrame with random data and compute the sum of values for each 'Category' and 'SubCategory'."
   ]
  },
  {
   "cell_type": "code",
   "execution_count": 80,
   "id": "535d649e",
   "metadata": {},
   "outputs": [
    {
     "name": "stdout",
     "output_type": "stream",
     "text": [
      "                      Value1  Value2  Value3\n",
      "Category Subcategory                        \n",
      "A        1               148     188     114\n",
      "         2               108     176     170\n",
      "         3               113     189     100\n",
      "B        1               104     106     126\n",
      "         2               192     114     100\n",
      "         3               182     196     163\n",
      "                      Value1  Value2  Value3\n",
      "Category Subcategory                        \n",
      "A        1               148     188     114\n",
      "         2               108     176     170\n",
      "         3               113     189     100\n",
      "B        1               104     106     126\n",
      "         2               192     114     100\n",
      "         3               182     196     163\n"
     ]
    }
   ],
   "source": [
    "tuples = [['A','A','A','B','B','B'],[1,2,3,1,2,3]]\n",
    "index = pd.MultiIndex.from_arrays(tuples,names=('Category','Subcategory'))\n",
    "df = pd.DataFrame(np.random.randint(100,200,size = (6,3)), index = index, columns = ['Value1','Value2','Value3'])\n",
    "print(df)\n",
    "grouped_sum = df.groupby(['Category','Subcategory'])[['Value1','Value2','Value3']].sum()\n",
    "print(grouped_sum)"
   ]
  },
  {
   "cell_type": "markdown",
   "id": "347e3b7c",
   "metadata": {},
   "source": [
    "### Assignment 8: Pivot Tables"
   ]
  },
  {
   "cell_type": "markdown",
   "id": "d8c25651",
   "metadata": {},
   "source": [
    "#### 1. Create a Pandas DataFrame with columns 'Date', 'Category', and 'Value'. Create a pivot table to compute the sum of 'Value' for each 'Category' by 'Date'."
   ]
  },
  {
   "cell_type": "code",
   "execution_count": null,
   "id": "b3484ef5",
   "metadata": {},
   "outputs": [],
   "source": []
  },
  {
   "cell_type": "markdown",
   "id": "ed7a131e",
   "metadata": {},
   "source": [
    "#### 2. Create a Pandas DataFrame with columns 'Year', 'Quarter', and 'Revenue'. Create a pivot table to compute the mean 'Revenue' for each 'Quarter' by 'Year'.\n"
   ]
  },
  {
   "cell_type": "code",
   "execution_count": null,
   "id": "55db6844",
   "metadata": {},
   "outputs": [],
   "source": []
  },
  {
   "cell_type": "markdown",
   "id": "5f9f7614",
   "metadata": {},
   "source": [
    "### Assignment 9: Applying Functions"
   ]
  },
  {
   "cell_type": "markdown",
   "id": "e7d90e2a",
   "metadata": {},
   "source": [
    "#### 1. Create a Pandas DataFrame with 3 columns and 5 rows filled with random integers. Apply a function that doubles the values of the DataFrame."
   ]
  },
  {
   "cell_type": "code",
   "execution_count": 82,
   "id": "ae8cb486",
   "metadata": {},
   "outputs": [
    {
     "name": "stdout",
     "output_type": "stream",
     "text": [
      "   Value1  Value2  Value3\n",
      "A      27      27       7\n",
      "B      21      14       1\n",
      "C      46      40      26\n",
      "D      25       9      34\n",
      "E      34       3      17\n",
      "   Value1  Value2  Value3\n",
      "A      54      54      14\n",
      "B      42      28       2\n",
      "C      92      80      52\n",
      "D      50      18      68\n",
      "E      68       6      34\n"
     ]
    },
    {
     "name": "stderr",
     "output_type": "stream",
     "text": [
      "C:\\Users\\Govind jaiswal\\AppData\\Local\\Temp\\ipykernel_8656\\1739942691.py:3: FutureWarning: DataFrame.applymap has been deprecated. Use DataFrame.map instead.\n",
      "  doubled_df = df.applymap(lambda x : x*2)\n"
     ]
    }
   ],
   "source": [
    "df = pd.DataFrame(np.random.randint(1,50,size=(5,3)),index=['A','B','C','D','E'],columns=['Value1','Value2','Value3'])\n",
    "print(df)\n",
    "doubled_df = df.applymap(lambda x : x*2)\n",
    "print(doubled_df)"
   ]
  },
  {
   "cell_type": "markdown",
   "id": "66696714",
   "metadata": {},
   "source": [
    "#### 2. Create a Pandas DataFrame with 3 columns and 6 rows filled with random integers. Apply a lambda function to create a new column that is the sum of the existing columns."
   ]
  },
  {
   "cell_type": "code",
   "execution_count": 89,
   "id": "663b4761",
   "metadata": {},
   "outputs": [
    {
     "name": "stdout",
     "output_type": "stream",
     "text": [
      "   Value1  Value2  Value3\n",
      "A      44       2       6\n",
      "B      31      35      33\n",
      "C      42      36      32\n",
      "D      35       7      27\n",
      "E      45      34      35\n",
      "F      47      36      43\n",
      "   Value1  Value2  Value3  Sum\n",
      "A      44       2       6   52\n",
      "B      31      35      33   99\n",
      "C      42      36      32  110\n",
      "D      35       7      27   69\n",
      "E      45      34      35  114\n",
      "F      47      36      43  126\n"
     ]
    }
   ],
   "source": [
    "df = pd.DataFrame(np.random.randint(1,50,size=(6,3)),index=['A','B','C','D','E','F'],columns=['Value1','Value2','Value3'])\n",
    "print(df)\n",
    "df['Sum'] = df.apply(lambda column : column.sum(),axis=1)\n",
    "print(df)"
   ]
  },
  {
   "cell_type": "markdown",
   "id": "e0c12cd3",
   "metadata": {},
   "source": [
    "### Assignment 10: Working with Text Data"
   ]
  },
  {
   "cell_type": "markdown",
   "id": "33bf9026",
   "metadata": {},
   "source": [
    "#### 1. Create a Pandas Series with 5 random text strings. Convert all the strings to uppercase."
   ]
  },
  {
   "cell_type": "code",
   "execution_count": 91,
   "id": "06c8b415",
   "metadata": {},
   "outputs": [
    {
     "name": "stdout",
     "output_type": "stream",
     "text": [
      "0         NumPy\n",
      "1        Pandas\n",
      "2    Matplotlib\n",
      "3       Seaborn\n",
      "4        Random\n",
      "dtype: object\n",
      "0         NUMPY\n",
      "1        PANDAS\n",
      "2    MATPLOTLIB\n",
      "3       SEABORN\n",
      "4        RANDOM\n",
      "dtype: object\n"
     ]
    }
   ],
   "source": [
    "text_data = pd.Series([\"NumPy\",\"Pandas\",\"Matplotlib\",\"Seaborn\",\"Random\"])\n",
    "print(text_data)\n",
    "uppercase_data = text_data.str.upper()\n",
    "print(uppercase_data)"
   ]
  },
  {
   "cell_type": "markdown",
   "id": "2c29a61d",
   "metadata": {},
   "source": [
    "#### 2. Create a Pandas Series with 5 random text strings. Extract the first three characters of each string."
   ]
  },
  {
   "cell_type": "code",
   "execution_count": 94,
   "id": "bcd54d08",
   "metadata": {},
   "outputs": [
    {
     "name": "stdout",
     "output_type": "stream",
     "text": [
      "0         NumPy\n",
      "1        Pandas\n",
      "2    Matplotlib\n",
      "3       Seaborn\n",
      "4        Random\n",
      "dtype: object\n",
      "0    Num\n",
      "1    Pan\n",
      "2    Mat\n",
      "3    Sea\n",
      "4    Ran\n",
      "dtype: object\n"
     ]
    }
   ],
   "source": [
    "text_data = pd.Series([\"NumPy\",\"Pandas\",\"Matplotlib\",\"Seaborn\",\"Random\"])\n",
    "print(text_data)\n",
    "sliced_data = text_data.str[:3]\n",
    "print(sliced_data)"
   ]
  }
 ],
 "metadata": {
  "kernelspec": {
   "display_name": "Python 3",
   "language": "python",
   "name": "python3"
  },
  "language_info": {
   "codemirror_mode": {
    "name": "ipython",
    "version": 3
   },
   "file_extension": ".py",
   "mimetype": "text/x-python",
   "name": "python",
   "nbconvert_exporter": "python",
   "pygments_lexer": "ipython3",
   "version": "3.12.5"
  }
 },
 "nbformat": 4,
 "nbformat_minor": 5
}
